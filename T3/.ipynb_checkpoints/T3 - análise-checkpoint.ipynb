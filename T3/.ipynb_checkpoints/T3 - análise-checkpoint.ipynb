{
 "cells": [
  {
   "cell_type": "code",
   "execution_count": 64,
   "id": "1855ea13",
   "metadata": {},
   "outputs": [],
   "source": [
    "import numpy as np\n",
    "import matplotlib.pyplot as plt\n",
    "import scipy.stats as sps\n",
    "import scipy.optimize as spo\n",
    "import scipy as sc\n",
    "import sympy as sp\n",
    "np.set_printoptions(suppress=True, linewidth= 500)\n",
    "from mpl_toolkits.axes_grid1.inset_locator import inset_axes"
   ]
  },
  {
   "cell_type": "code",
   "execution_count": 2,
   "id": "3f639237",
   "metadata": {},
   "outputs": [],
   "source": [
    "def makeplot(data, dt_label, color_mk, *errors, bars=False,):\n",
    "    data_x, data_y = data[0], data[1]\n",
    "    fig , ax = plt.subplots( figsize = figsize, dpi = dpi  ) \n",
    "    ax.legend( fontsize = fontsize)\n",
    "    ax.set_xlabel( xlabel , fontsize = fontsize )\n",
    "    ax.set_ylabel( ylabel , fontsize = fontsize )\n",
    "    if ticks:\n",
    "        ax.set_xticks( xticks )\n",
    "        ax.set_yticks( yticks )\n",
    "        ax.set_xlim( xticks[0] , xticks[-1])\n",
    "        ax.set_ylim( yticks[0] , yticks[-1])\n",
    "    plt.grid( alpha = alpha_grid )\n",
    "    plot_data = ax.plot( data_x , data_y , marker_type ,\n",
    "                    label      = dt_label , \n",
    "                    markersize = markersize )\n",
    "    plot_data[0].set_color(color_mk )\n",
    "    if bars:\n",
    "        errorbar = plt.errorbar( data_x , data_y ,\n",
    "                                yerr       = errors[0][1] ,\n",
    "                                xerr       = errors[0][0] , \n",
    "                                color      = color_bars ,\n",
    "                                ls         ='' , \n",
    "                                alpha      = alpha_bars ,\n",
    "                                elinewidth = thickness,\n",
    "                                capsize    = head_size , \n",
    "                                capthick   = 0.2 )\n",
    "    plt.legend( fontsize = fontsize )\n",
    "    plt.tight_layout()\n",
    "    return fig, ax\n",
    "\n",
    "def add_points(data, dt_label, color_mk, figure,*errors, bars= False):\n",
    "    data_x, data_y = data[0], data[1]\n",
    "    fig, ax = figure[0], figure[1]\n",
    "    plot_data = ax.plot( data_x , data_y , marker_type ,\n",
    "                    label      = dt_label , \n",
    "                    markersize = markersize )\n",
    "    plot_data[0].set_color(color_mk )\n",
    "    if bars:\n",
    "        errorbar = plt.errorbar( data_x , data_y ,\n",
    "                                yerr       = errors[0][1] ,\n",
    "                                xerr       = errors[0][0] , \n",
    "                                color      = color_bars ,\n",
    "                                ls         ='' , \n",
    "                                alpha      = alpha_bars ,\n",
    "                                elinewidth = thickness,\n",
    "                                capsize    = head_size , \n",
    "                                capthick   = 0.2 )\n",
    "    ax.legend( fontsize = fontsize )\n",
    "\n",
    "def add_fit( ax , x , coef , f_fit , label=\"Fit\",linestyle = \"k--\"):\n",
    "    y_fit     = f_fit( x ,*coef )\n",
    "    linewidth = 1\n",
    "    alpha     = 0.5 \n",
    "    if label != False:\n",
    "        ax.plot( x , y_fit , linestyle , label = label, linewidth = linewidth , alpha = alpha  )\n",
    "        ax.legend(  fontsize = fontsize )\n",
    "    else:\n",
    "         ax.plot( x , y_fit , linestyle , linewidth = linewidth , alpha = alpha )\n",
    "    \n",
    "    return ax , y_fit\n",
    "\n",
    "def add_residues( x , y_fit , y , color, in_fig , *args ):\n",
    "    if not in_fig: \n",
    "        fig , ax = plt.subplots( figsize = (figsize))\n",
    "        ax.set_xlabel( xlabel )\n",
    "        ax.set_ylabel( \"Resíduos\" )\n",
    "        ax.legend( fontsize = 15)\n",
    "    \n",
    "    else : \n",
    "        fig = args[ 0 ]\n",
    "        ax = args[ 1 ]\n",
    "        loc= args[2]\n",
    "        ax = inset_axes(ax, width=\"30%\", height=\"30%\", loc=loc)\n",
    "    \n",
    "    res       = y - y_fit\n",
    "    \n",
    "    global max_res\n",
    "    global min_res\n",
    "    max_res, min_res = max(max_res, np.max(res)), min(min_res,np.min(res))\n",
    "    ax.scatter( x , res ,color = color, marker='.' )\n",
    "    if ticks:\n",
    "        ax.set_xticks( xticks )\n",
    "        ax.set_yticks( yticks )\n",
    "        ax.set_xlim( ( xticks[0] , xticks[-1]) )\n",
    "        ax.set_ylim( ( yticks[0] , yticks[-1]) )\n",
    "    ax.grid(True)\n",
    "    ax.set_title(\"Resíduos\")\n",
    "    if in_fig:\n",
    "        return ax     \n",
    "    return fig , ax  \n",
    "\n",
    "colors=['blue', 'orange', 'green', 'magenta', 'purple']\n",
    "max_res, min_res = 0, 0\n",
    "# para guardar a imagem \n",
    "#fig.savefig( fig_name + \".png\" )"
   ]
  },
  {
   "cell_type": "code",
   "execution_count": 3,
   "id": "4b63c800",
   "metadata": {},
   "outputs": [],
   "source": [
    "# --- Formatação da figura ---\n",
    "cm          = 1/2.54  # centimeters in inches\n",
    "figsize     = ( 12*cm, 10*cm )\n",
    "dpi         = 100\n",
    "\n",
    "# --- Texto que apareça no gráfico ---\n",
    "fontsize        = 8\n",
    "legend_label    = \"Pontos Experimentais\"\n",
    "xlabel          = \"\"\n",
    "ylabel          = \"$\\|\\epsilon| $(mV)\"\n",
    "\n",
    "# --- Formação dos pontos ---\n",
    "marker_type = \".\"\n",
    "markersize  = 2.5\n",
    "color_mk    = \"lime\"\n",
    "\n",
    "\n",
    "# --- formatação da escala do gráfico ---\n",
    "xticks      = np.linspace( - 1 , 1 , 10 )\n",
    "yticks      = np.linspace( -20 , 20 , 9)\n",
    "\n",
    "# --- Transparência da grid ---\n",
    "alpha_grid = 0.5 \n",
    "\n",
    "# --- Formatação barras de erro --- \n",
    "color_bars    = \"k\"\n",
    "alpha_bars    = 0.5\n",
    "thickness     = 1 \n",
    "head_size     = 1 \n",
    "head_thick    = 0.2 \n",
    "\n",
    "# --- Informação para guardar a imagem ---\n",
    "fig_name = \"fig1\" #sem o png!\n",
    "\n",
    "\n",
    "# --- data para dar plot ---\n",
    "#data_x = ...\n",
    "#data_y = ...\n",
    "#u x    = ...\n",
    "#u_y    = ..."
   ]
  },
  {
   "cell_type": "markdown",
   "id": "6c02d5fc",
   "metadata": {},
   "source": [
    "# 1ª Parte "
   ]
  },
  {
   "cell_type": "code",
   "execution_count": 4,
   "id": "0791ad4f",
   "metadata": {},
   "outputs": [],
   "source": [
    "data_10 = np.genfromtxt( \"CSV\\parte_1.0.csv\" , delimiter = \",\" , skip_header = True )\n",
    "data_11 = np.genfromtxt( \"CSV\\parte_1.1.csv\" , delimiter = \",\", skip_header = True )\n",
    "data_11 = data_11[ : , :4]\n",
    "data_10 = data_10[ : , :5]\n",
    "\n",
    "# usamos os valores retirados do protocolo porque nos esquecemos de usar o palmer para medir a espessura do fio! \n",
    "h       = 5.5e-3 # m \n",
    "lambda0 = 632.8e-9 # m \n",
    "nar_t   = 1.00029 # não vale a pena procurar os valores correspondentes à temperatura e pressão da sala.\n",
    "                  # não vamos ter precisão suficiente para notar diferenças a esse nível \n",
    "    \n",
    "# uma vez que o genfromtxt não reconhece strings, vamos usar a codificação: \n",
    "    # M -> 0\n",
    "    # R -> 1 \n",
    "    # cw -> 0 \n",
    "    # ccw -> 1 \n",
    "p_dic = { 0:\"Miguel\" , 1:\"Renata\" }\n",
    "d_dic = { 1:\"CCW\" , 0:\"CW\" }\n"
   ]
  },
  {
   "cell_type": "code",
   "execution_count": 5,
   "id": "d9ec6e50",
   "metadata": {},
   "outputs": [
    {
     "name": "stdout",
     "output_type": "stream",
     "text": [
      "[25.68271941 25.19455546 22.20989138 18.63389981 23.61111111 26.92582404 14.16666667 14.67724762 18.63389981 14.16666667 24.41406525 18.98479407 15.617991   20.03801834 36.26558622 16.22508029 18.35618085 15.40602736 15.28513839 26.92582404]\n"
     ]
    },
    {
     "data": {
      "image/png": "[encoded data removed]",
      "text/plain": [
       "<Figure size 432x288 with 1 Axes>"
      ]
     },
     "metadata": {
      "needs_background": "light"
     },
     "output_type": "display_data"
    }
   ],
   "source": [
    "# análise parte 1.0\n",
    "\n",
    "udeltad = 0.01e-4 \n",
    "uN      = 5\n",
    "N       = data_10[:,2]\n",
    "\n",
    "\n",
    "deltad = np.abs(data_10[:,4]-data_10[:,3]) * 1e-4\n",
    "\n",
    "\n",
    "n      = data_10[ :,2 ] * lambda0 / deltad * 0.5 \n",
    "un     = n * np.sqrt( ( uN / N ) ** 2 + ( udeltad / deltad )** 2 )\n",
    "\n",
    "\n",
    "indM, = np.where( data_10[:,0] == 0 )\n",
    "indR, = np.where( data_10[:,0] == 1 )\n",
    "indCCW, = np.where( data_10[:,1] == 1 )\n",
    "indCW,  = np.where( data_10[:,1] == 0 )\n",
    "\n",
    "\n",
    "for i in range( len(N)):\n",
    "    s = \".\"\n",
    "    if i in indCCW:\n",
    "        s = \"+\"\n",
    "    \n",
    "    if i in indM:\n",
    "        plt.plot( i , n[i] , \"r\"+s )\n",
    "    \n",
    "    if i in indR:\n",
    "        plt.plot( i, n[i] , \"b\"+s)\n",
    "\n",
    "        \n",
    "mean_val = np.mean( n[2:])\n",
    "std_val  = np.std( n[2:])\n",
    "plt.hlines( mean_val , 0 , 20 , linewidth = 1)\n",
    "plt.hlines( mean_val - std_val, 0 , 20  , linewidth = 1)\n",
    "plt.hlines( mean_val + std_val, 0 , 20  , linewidth = 1)    \n",
    "\n",
    "plt.hlines( mean_val - std_val*1.5, 0 , 20  , linewidth = 1, linestyle = \"--\")\n",
    "plt.hlines( mean_val + std_val*1.5, 0 , 20  , linewidth = 1, linestyle = \"--\")        \n",
    "\n",
    "print( un / n * 100  )\n",
    "\n",
    "\n",
    "# os últimos dois ensaios foram feitos com uma mão diferente mas não vemos diferença, por isso podemos cagar nisso "
   ]
  },
  {
   "cell_type": "code",
   "execution_count": 16,
   "id": "3c8d7fa8",
   "metadata": {},
   "outputs": [
    {
     "data": {
      "image/png": "[encoded data removed]",
      "text/plain": [
       "<Figure size 432x288 with 1 Axes>"
      ]
     },
     "metadata": {
      "needs_background": "light"
     },
     "output_type": "display_data"
    },
    {
     "data": {
      "image/png": "[encoded data removed]",
      "text/plain": [
       "<Figure size 432x288 with 1 Axes>"
      ]
     },
     "metadata": {
      "needs_background": "light"
     },
     "output_type": "display_data"
    },
    {
     "data": {
      "text/plain": [
       "{'whiskers': [<matplotlib.lines.Line2D at 0x27cf1e1aa00>,\n",
       "  <matplotlib.lines.Line2D at 0x27cf1e1ac70>],\n",
       " 'caps': [<matplotlib.lines.Line2D at 0x27cf1e25040>,\n",
       "  <matplotlib.lines.Line2D at 0x27cf1e253d0>],\n",
       " 'boxes': [<matplotlib.lines.Line2D at 0x27cf1e1a670>],\n",
       " 'medians': [<matplotlib.lines.Line2D at 0x27cf1e25760>],\n",
       " 'fliers': [<matplotlib.lines.Line2D at 0x27cf1e25af0>],\n",
       " 'means': []}"
      ]
     },
     "execution_count": 16,
     "metadata": {},
     "output_type": "execute_result"
    },
    {
     "data": {
      "image/png": "[encoded data removed]",
      "text/plain": [
       "<Figure size 432x288 with 1 Axes>"
      ]
     },
     "metadata": {
      "needs_background": "light"
     },
     "output_type": "display_data"
    }
   ],
   "source": [
    "# análise  parte 1.1\n",
    "\n",
    "theta = np.abs(data_11[ : , 3 ]-data_11[:,2])\n",
    "theta_rad = theta * np.pi / 180 \n",
    "\n",
    "\n",
    "N     = data_11[ : , 1 ]\n",
    "\n",
    "nv    = h * nar_t ** 2 * np.sin( theta_rad )**2 / ( h * nar_t * np.sin( theta_rad ) **2 - N * lambda0 )\n",
    "\n",
    "indM,  = np.where( data_11[:,0] == 0 )\n",
    "indR,  = np.where( data_11[:,0] == 1 )\n",
    "\n",
    "\n",
    "plt.plot( nv[indR] , \"b.\")\n",
    "plt.plot( nv[indM] , \"r.\")\n",
    "\n",
    "mean_val = np.mean( nv)\n",
    "std_val  = np.std( nv)\n",
    "plt.hlines( mean_val , 0 , 5 , linewidth = 1)\n",
    "plt.hlines( mean_val - std_val, 0 , 5  , linewidth = 1)\n",
    "plt.hlines( mean_val + std_val, 0 , 5 , linewidth = 1)    \n",
    "\n",
    "plt.hlines( mean_val - std_val*1.5, 0 , 5  , linewidth = 1, linestyle = \"--\")\n",
    "plt.hlines( mean_val + std_val*1.5, 0 , 5  , linewidth = 1, linestyle = \"--\")\n",
    "\n",
    "plt.show()\n",
    "\n",
    "plt.plot( nv[indR] , \"b.\")\n",
    "plt.plot( nv[indM] , \"r.\")\n",
    "\n",
    "ind,= np.where( np.abs(nv - mean_val)< 1.5 *std_val  )\n",
    "nv  = nv[ind]\n",
    "mean_val = np.mean( nv)\n",
    "std_val  = np.std( nv)\n",
    "plt.hlines( mean_val , 0 , 5 , linewidth = 1)\n",
    "plt.hlines( mean_val - std_val, 0 , 5  , linewidth = 1)\n",
    "plt.hlines( mean_val + std_val, 0 , 5 , linewidth = 1)    \n",
    "\n",
    "plt.hlines( mean_val - std_val*1.5, 0 , 5  , linewidth = 1, linestyle = \"--\")\n",
    "plt.hlines( mean_val + std_val*1.5, 0 , 5  , linewidth = 1, linestyle = \"--\")\n",
    "\n",
    "plt.show()\n",
    "plt.boxplot( nv  , vert = False)"
   ]
  },
  {
   "cell_type": "markdown",
   "id": "9aecf346",
   "metadata": {},
   "source": [
    "# 2ª Parte \n",
    "\n"
   ]
  },
  {
   "cell_type": "code",
   "execution_count": 142,
   "id": "caeeccc0",
   "metadata": {},
   "outputs": [
    {
     "name": "stdout",
     "output_type": "stream",
     "text": [
      "[[ 1. 14. 12.]\n",
      " [ 2. 27. 23.]\n",
      " [ 3. 39. 36.]\n",
      " [ 4. 50. 48.]\n",
      " [ 1. 16. 17.]\n",
      " [ 2. 32. 33.]\n",
      " [ 3. 48. 49.]\n",
      " [ 4. 64. 66.]]\n"
     ]
    }
   ],
   "source": [
    "data_20 = np.genfromtxt( \"CSV\\parte_2.0.csv\" , delimiter = \",\" , skip_header = True )\n",
    "data_21 = np.genfromtxt( \"CSV\\parte_2.1.csv\" , delimiter = \",\", skip_header = True )\n",
    "data_22 = np.genfromtxt( \"CSV\\parte_2.2.csv\" , delimiter = \",\", skip_header = True )\n",
    "data_23 = np.genfromtxt( \"CSV\\parte_2.3.csv\" , delimiter = \",\", skip_header = True )\n",
    "\n",
    "data_20 = data_20[:,1:4]\n",
    "data_20 = np.delete( data_20 , 3 , 0 )\n",
    "data_21 = data_21[:,2:4]\n",
    "data_22 = data_22[:,:3]\n",
    "data_23 = data_23[:,1:4]\n",
    "\n",
    "\n",
    "d  = 1.734\n",
    "ud = 0.002\n",
    "\n",
    "bt = np.array([ 0.08 , 0.04 ])\n"
   ]
  },
  {
   "cell_type": "markdown",
   "id": "368d8dcf",
   "metadata": {},
   "source": [
    "## Parte 2.0"
   ]
  },
  {
   "cell_type": "code",
   "execution_count": 70,
   "id": "19bf1855",
   "metadata": {},
   "outputs": [
    {
     "name": "stdout",
     "output_type": "stream",
     "text": [
      "[0.07740242 0.0415992 ]\n",
      "[0.00302709 0.00059146]\n",
      "[3.91084796 1.42180095]\n",
      "[3.24697024 3.99799802]\n"
     ]
    }
   ],
   "source": [
    "bexp = d * lambda0 / ( nar_t * (data_20[:,1]+data_20[:,2]))*2 * data_20[:,0] * 1000000\n",
    "\n",
    "bf   = np.array(( np.mean(bexp[:3]),np.mean(bexp[3:])))\n",
    "ubf  = np.array(( np.std(bexp[:3]),np.std(bexp[3:])))\n",
    "print( bf )\n",
    "print( ubf )\n",
    "print( ubf / bf * 100 )\n",
    "print( np.abs( bf - bt )/ bt *100)\n"
   ]
  },
  {
   "cell_type": "markdown",
   "id": "048512d1",
   "metadata": {},
   "source": [
    "## Parte 2.1\n"
   ]
  },
  {
   "cell_type": "code",
   "execution_count": 89,
   "id": "8aa5f9f3",
   "metadata": {},
   "outputs": [
    {
     "name": "stdout",
     "output_type": "stream",
     "text": [
      "[0.22298759 0.20413737]\n",
      "0.21356247801983153\n",
      "0.009425109558676023\n"
     ]
    }
   ],
   "source": [
    "bessel = sc.special.jn_zeros( 1 , 2 )\n",
    "bt = 0.2\n",
    "\n",
    "bexp     = d * lambda0 / ( nar_t * np.mean( data_21 , axis = 1 )) * bessel / np.pi * 1000000\n",
    "bf       = np.mean( bexp )\n",
    "stdbf    = np.std( bexp )\n",
    "print( bexp )\n",
    "print( bf )\n",
    "print( stdbf )\n",
    "\n"
   ]
  },
  {
   "cell_type": "markdown",
   "id": "0baa336e",
   "metadata": {},
   "source": [
    "## Parte 2.2"
   ]
  },
  {
   "cell_type": "code",
   "execution_count": 148,
   "id": "a56f7683",
   "metadata": {
    "scrolled": false
   },
   "outputs": [
    {
     "name": "stdout",
     "output_type": "stream",
     "text": [
      "declive =  5.2023809523809526 \n",
      "ordenada =  0.0892857142857153\n",
      "incerteza declive =  0.03331915798362775 \n",
      "incerteza ordenada =  0.16825350029885736\n",
      "incerteza relativa declive =  0.6404597873283138  %\n",
      "----\n",
      "bexp =  0.21085673895988927\n",
      "u(bexp) =  0.0013504526219099244  %\n",
      "----\n"
     ]
    },
    {
     "data": {
      "image/png": "[encoded data removed]",
      "text/plain": [
       "<Figure size 432x288 with 1 Axes>"
      ]
     },
     "metadata": {
      "needs_background": "light"
     },
     "output_type": "display_data"
    },
    {
     "data": {
      "image/png": "[encoded data removed]",
      "text/plain": [
       "<Figure size 432x288 with 1 Axes>"
      ]
     },
     "metadata": {
      "needs_background": "light"
     },
     "output_type": "display_data"
    },
    {
     "name": "stdout",
     "output_type": "stream",
     "text": [
      "erro palmer =  15.657304416044294  %\n"
     ]
    }
   ],
   "source": [
    "bt = 0.25\n",
    "ubt = 0.01\n",
    "\n",
    "def analisa_fios( data_set ):\n",
    "    y1 , y2 = data_set[:,1],data_set[:,2]\n",
    "    Y   = ( y1 + y2 ) / 2 \n",
    "    m   = data_set[:,0]\n",
    "    bexp = d * lambda0 / ( nar_t * Y) * m * 1000000\n",
    "\n",
    "    plt.plot( m , y1 , \"r.\" )\n",
    "    plt.plot( m , y2 , \"b.\")\n",
    "    plt.plot( m , Y , \".\" , color = \"purple\")\n",
    "\n",
    "    result = sps.linregress( m , Y )\n",
    "    dec , o = result.slope , result.intercept \n",
    "    udec , uo = result.stderr , result.intercept_stderr\n",
    "\n",
    "    print( \"declive = \" , dec , \"\\nordenada = \" , o )\n",
    "    print( \"incerteza declive = \" , udec , \"\\nincerteza ordenada = \" , uo )\n",
    "    print( \"incerteza relativa declive = \" , udec / dec * 100 , \" %\")\n",
    "    print( \"----\")\n",
    "    bexp = d * lambda0 / ( nar_t * dec ) *1e6\n",
    "    print( \"bexp = \" , bexp )\n",
    "    print( \"u(bexp) = \" , bexp *udec / dec  , \" %\" )\n",
    "    print( \"----\")\n",
    "\n",
    "    plt.plot( m , m * dec + o , \".--\" , linewidth = 1 , markersize = 3 )\n",
    "    plt.xlabel( \"m\")\n",
    "    plt.ylabel( \"Y\")\n",
    "    plt.show()\n",
    "\n",
    "    plt.plot( m , m * dec + o - Y , \".\")\n",
    "    plt.show()\n",
    "    \n",
    "    return bexp\n",
    "    \n",
    "bexp = analisa_fios( data_22 )\n",
    "print( \"erro palmer = \" , np.abs( bexp - bt ) / bt * 100 , \" %\")\n"
   ]
  },
  {
   "cell_type": "markdown",
   "id": "b66c3ccf",
   "metadata": {},
   "source": [
    "## Parte 2.3"
   ]
  },
  {
   "cell_type": "code",
   "execution_count": 149,
   "id": "a2108fb4",
   "metadata": {},
   "outputs": [
    {
     "name": "stdout",
     "output_type": "stream",
     "text": [
      "declive =  12.05 \n",
      "ordenada =  1.0\n",
      "incerteza declive =  0.13228756555320811 \n",
      "incerteza ordenada =  0.3622844186546773\n",
      "incerteza relativa declive =  1.0978221207735113  %\n",
      "----\n",
      "bexp =  0.09103378277560918\n",
      "u(bexp) =  0.0009993890046875442  %\n",
      "----\n"
     ]
    },
    {
     "data": {
      "image/png": "[encoded data removed]",
      "text/plain": [
       "<Figure size 432x288 with 1 Axes>"
      ]
     },
     "metadata": {
      "needs_background": "light"
     },
     "output_type": "display_data"
    },
    {
     "data": {
      "image/png": "[encoded data removed]",
      "text/plain": [
       "<Figure size 432x288 with 1 Axes>"
      ]
     },
     "metadata": {
      "needs_background": "light"
     },
     "output_type": "display_data"
    },
    {
     "data": {
      "text/plain": [
       "0.09103378277560918"
      ]
     },
     "execution_count": 149,
     "metadata": {},
     "output_type": "execute_result"
    }
   ],
   "source": [
    "Rarr = data_23[:4,:]\n",
    "Marr = data_23[4:,:]\n",
    "analisa_fios( Rarr )"
   ]
  },
  {
   "cell_type": "code",
   "execution_count": 150,
   "id": "f4f5cf51",
   "metadata": {},
   "outputs": [
    {
     "name": "stdout",
     "output_type": "stream",
     "text": [
      "declive =  16.15 \n",
      "ordenada =  0.25\n",
      "incerteza declive =  0.08660254037838465 \n",
      "incerteza ordenada =  0.2371708245124663\n",
      "incerteza relativa declive =  0.5362386401138368  %\n",
      "----\n",
      "bexp =  0.06792303916074865\n",
      "u(bexp) =  0.00036422958151958746  %\n",
      "----\n"
     ]
    },
    {
     "data": {
      "image/png": "[encoded data removed]",
      "text/plain": [
       "<Figure size 432x288 with 1 Axes>"
      ]
     },
     "metadata": {
      "needs_background": "light"
     },
     "output_type": "display_data"
    },
    {
     "data": {
      "image/png": "[encoded data removed]",
      "text/plain": [
       "<Figure size 432x288 with 1 Axes>"
      ]
     },
     "metadata": {
      "needs_background": "light"
     },
     "output_type": "display_data"
    },
    {
     "data": {
      "text/plain": [
       "0.06792303916074865"
      ]
     },
     "execution_count": 150,
     "metadata": {},
     "output_type": "execute_result"
    }
   ],
   "source": [
    "analisa_fios( Marr )"
   ]
  }
 ],
 "metadata": {
  "kernelspec": {
   "display_name": "Python 3 (ipykernel)",
   "language": "python",
   "name": "python3"
  },
  "language_info": {
   "codemirror_mode": {
    "name": "ipython",
    "version": 3
   },
   "file_extension": ".py",
   "mimetype": "text/x-python",
   "name": "python",
   "nbconvert_exporter": "python",
   "pygments_lexer": "ipython3",
   "version": "3.8.12"
  }
 },
 "nbformat": 4,
 "nbformat_minor": 5
}
