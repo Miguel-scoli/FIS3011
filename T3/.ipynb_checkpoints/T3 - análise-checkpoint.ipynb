{
 "cells": [
  {
   "cell_type": "code",
   "execution_count": 1,
   "id": "778a8685",
   "metadata": {
    "execution": {
     "iopub.execute_input": "2021-11-29T22:05:38.329308Z",
     "iopub.status.busy": "2021-11-29T22:05:38.328895Z",
     "iopub.status.idle": "2021-11-29T22:05:40.196577Z",
     "shell.execute_reply": "2021-11-29T22:05:40.195875Z",
     "shell.execute_reply.started": "2021-11-29T22:05:38.329202Z"
    }
   },
   "outputs": [],
   "source": [
    "import numpy as np\n",
    "import matplotlib.pyplot as plt\n",
    "import scipy.stats as sps\n",
    "import scipy.optimize as spo\n",
    "import scipy as sc\n",
    "import sympy as sp\n",
    "np.set_printoptions(suppress=True, linewidth= 500)\n",
    "from mpl_toolkits.axes_grid1.inset_locator import inset_axes"
   ]
  },
  {
   "cell_type": "code",
   "execution_count": 2,
   "id": "b3fa4997",
   "metadata": {
    "execution": {
     "iopub.execute_input": "2021-11-29T22:05:40.198424Z",
     "iopub.status.busy": "2021-11-29T22:05:40.198137Z",
     "iopub.status.idle": "2021-11-29T22:05:40.205518Z",
     "shell.execute_reply": "2021-11-29T22:05:40.204943Z",
     "shell.execute_reply.started": "2021-11-29T22:05:40.198386Z"
    }
   },
   "outputs": [],
   "source": [
    "# --- Formatação da figura ---\n",
    "cm          = 1/2.54  # centimeters in inches\n",
    "figsize     = ( 12*cm, 10*cm )\n",
    "dpi         = 100\n",
    "\n",
    "# --- Texto que apareça no gráfico ---\n",
    "fontsize        = 8\n",
    "legend_label    = \"Pontos Experimentais\"\n",
    "xlabel          = \"\"\n",
    "ylabel          = \"$\\|\\epsilon| $(mV)\"\n",
    "\n",
    "# --- Formação dos pontos ---\n",
    "marker_type = \".\"\n",
    "markersize  = 2.5\n",
    "color_mk    = \"lime\"\n",
    "\n",
    "\n",
    "# --- formatação da escala do gráfico ---\n",
    "xticks      = np.linspace( - 1 , 1 , 10 )\n",
    "yticks      = np.linspace( -20 , 20 , 9)\n",
    "\n",
    "# --- Transparência da grid ---\n",
    "alpha_grid = 0.5 \n",
    "\n",
    "# --- Formatação barras de erro --- \n",
    "color_bars    = \"k\"\n",
    "alpha_bars    = 0.5\n",
    "thickness     = 1 \n",
    "head_size     = 1 \n",
    "head_thick    = 0.2 \n",
    "\n",
    "# --- Informação para guardar a imagem ---\n",
    "fig_name = \"fig1\" #sem o png!\n",
    "\n",
    "\n",
    "# --- data para dar plot ---\n",
    "#data_x = ...\n",
    "#data_y = ...\n",
    "#u x    = ...\n",
    "#u_y    = ..."
   ]
  },
  {
   "cell_type": "markdown",
   "id": "431096ae",
   "metadata": {},
   "source": [
    "# 1ª Parte "
   ]
  },
  {
   "cell_type": "code",
   "execution_count": 3,
   "id": "3cd40675",
   "metadata": {
    "execution": {
     "iopub.execute_input": "2021-11-29T22:05:40.206369Z",
     "iopub.status.busy": "2021-11-29T22:05:40.206206Z",
     "iopub.status.idle": "2021-11-29T22:05:40.214804Z",
     "shell.execute_reply": "2021-11-29T22:05:40.213756Z",
     "shell.execute_reply.started": "2021-11-29T22:05:40.206348Z"
    }
   },
   "outputs": [],
   "source": [
    "data_10 = np.genfromtxt( \"CSV/parte_1.0.csv\" , delimiter = \",\" , skip_header = True )\n",
    "data_11 = np.genfromtxt( \"CSV/parte_1.1.csv\" , delimiter = \",\", skip_header = True )\n",
    "data_11 = data_11[ : , :4]\n",
    "data_10 = data_10[ : , :5]\n",
    "\n",
    "# usamos os valores retirados do protocolo porque nos esquecemos de usar o palmer para medir a espessura do fio! \n",
    "h       = 5.5e-3 # m \n",
    "lambda0 = 632.8e-9 # m \n",
    "nar_t   = 1.00029 # não vale a pena procurar os valores correspondentes à temperatura e pressão da sala.\n",
    "                  # não vamos ter precisão suficiente para notar diferenças a esse nível \n",
    "\n"
   ]
  },
  {
   "cell_type": "code",
   "execution_count": 4,
   "id": "935c8ba9",
   "metadata": {
    "execution": {
     "iopub.execute_input": "2021-11-29T22:05:41.537885Z",
     "iopub.status.busy": "2021-11-29T22:05:41.536749Z",
     "iopub.status.idle": "2021-11-29T22:05:41.542833Z",
     "shell.execute_reply": "2021-11-29T22:05:41.542196Z",
     "shell.execute_reply.started": "2021-11-29T22:05:41.537836Z"
    }
   },
   "outputs": [],
   "source": [
    "udeltad = 0.01e-4 \n",
    "uN      = 5\n",
    "N       = data_10[:,2]\n",
    "\n",
    "\n",
    "deltad = np.abs(data_10[:,4]-data_10[:,3]) * 1e-4\n",
    "\n",
    "markersize = 7\n",
    "fontsize   = 12"
   ]
  },
  {
   "cell_type": "code",
   "execution_count": 9,
   "id": "4bc04233",
   "metadata": {
    "execution": {
     "iopub.execute_input": "2021-11-29T22:11:47.966955Z",
     "iopub.status.busy": "2021-11-29T22:11:47.966753Z",
     "iopub.status.idle": "2021-11-29T22:11:48.188813Z",
     "shell.execute_reply": "2021-11-29T22:11:48.188213Z",
     "shell.execute_reply.started": "2021-11-29T22:11:47.966934Z"
    }
   },
   "outputs": [
    {
     "name": "stdout",
     "output_type": "stream",
     "text": [
      "n ar    = 0.80\n",
      "u(n)    = 0.09\n",
      "u(n)%   = 10.8 %\n",
      "erro %  = 20.0 %\n"
     ]
    },
    {
     "data": {
      "image/png": "[encoded data removed]",
      "text/plain": [
       "<Figure size 576x288 with 1 Axes>"
      ]
     },
     "metadata": {
      "needs_background": "light"
     },
     "output_type": "display_data"
    }
   ],
   "source": [
    "# análise parte 1.0\n",
    "n      = data_10[ :,2 ] * lambda0 / deltad * 0.5 \n",
    "un     = n * np.sqrt( ( uN / N ) ** 2 + ( udeltad / deltad )** 2 )\n",
    "len_n = len( n )\n",
    "\n",
    "\n",
    "indM   = data_10[:,0]==0\n",
    "indR   = data_10[:,0]==1\n",
    "indCW  = data_10[:,1]==0\n",
    "indCCW = data_10[:,1]==1\n",
    "\n",
    "indMCCW = indM * indCCW\n",
    "indMCW  = indM * indCW\n",
    "indRCCW = indR * indCCW\n",
    "indRCW  = indR * indCW\n",
    "\n",
    "fig10 , ax10 = plt.subplots( figsize = ( 8 , 4 ) ) \n",
    "\n",
    "nensaio = np.arange( len( n )  )\n",
    "ax10.errorbar( nensaio,n ,yerr=un,ls='',color='k', alpha=0.5,capthick = 0.2)\n",
    "ax10.plot( nensaio[indMCW] ,n[indMCW] ,\"m.\" , \n",
    "        label = \"M CW\" , markersize = markersize  )\n",
    "ax10.plot( nensaio[indMCCW] , n[indMCCW] ,\"m+\" , \n",
    "        label = \"M CCW\" , markersize = markersize  )\n",
    "\n",
    "ax10.plot( nensaio[indRCW] , n[indRCW] , \"b.\" , \n",
    "        label = \"R CW\" , markersize = markersize  )\n",
    "ax10.plot( nensaio[indRCCW] , n[indRCCW] , \"b+\" ,\n",
    "        label = \"R CCW\" , markersize = markersize  )\n",
    "\n",
    "\n",
    "mean_val = np.mean( n[2:])\n",
    "std_val  = np.std( n[2:])\n",
    "\n",
    "\n",
    "ax10.hlines( mean_val          , -1 , len_n , \n",
    "          color = \"lime\",linewidth = 1, \n",
    "          linestyle = \"--\", label = \"Média\")\n",
    "\n",
    "ax10.hlines( mean_val - std_val, -1 , len_n  ,\n",
    "          color = \"green\",linewidth = 1, \n",
    "          linestyle = \"--\", label = r\"$\\sigma$\")\n",
    "\n",
    "ax10.hlines( mean_val + std_val,-1 , len_n  ,\n",
    "          color = \"green\",linewidth = 1, \n",
    "          linestyle = \"--\")    \n",
    "ax10.hlines( mean_val - std_val*2,-1 , len_n  ,\n",
    "          color = \"red\", linewidth = 1, \n",
    "          linestyle = \"--\", label = r\"$2\\sigma$\")\n",
    "\n",
    "ax10.hlines( mean_val + std_val*2,-1 , len_n  ,\n",
    "          color =\"red\" , linewidth = 1, \n",
    "          linestyle = \"--\") \n",
    "ax10.grid()\n",
    "\n",
    "\n",
    "nensaio = np.append( nensaio  ,len_n)\n",
    "ax10.set_xticks( nensaio[::2] ) \n",
    "ax10.set_xlim( -1 , len_n )\n",
    "ax10.set_xlabel( \"nº ensaio\", fontsize = fontsize )\n",
    "ax10.set_ylabel( r\"$n_{ar}$\", fontsize = fontsize )\n",
    "\n",
    "ax10.legend( fontsize = fontsize , ncol = 4 )\n",
    "\n",
    "print( \"n ar    = {:.2f}\".format(mean_val)  )\n",
    "print( \"u(n)    = {:.2f}\".format(std_val) )\n",
    "print( \"u(n)%   = {:.1f} %\".format(std_val / mean_val * 100))\n",
    "print( \"erro %  = {:.1f} %\".format(np.abs(mean_val-nar_t) / nar_t * 100))\n",
    "plt.title(\"Índice Refr. Ar\")\n",
    "plt.show()"
   ]
  },
  {
   "cell_type": "code",
   "execution_count": 37,
   "id": "02f908be",
   "metadata": {
    "execution": {
     "iopub.execute_input": "2021-11-28T23:20:38.379265Z",
     "iopub.status.busy": "2021-11-28T23:20:38.378747Z",
     "iopub.status.idle": "2021-11-28T23:20:38.564090Z",
     "shell.execute_reply": "2021-11-28T23:20:38.563351Z",
     "shell.execute_reply.started": "2021-11-28T23:20:38.379204Z"
    }
   },
   "outputs": [
    {
     "name": "stdout",
     "output_type": "stream",
     "text": [
      "(12,)\n",
      "(10,)\n",
      "(9,)\n"
     ]
    },
    {
     "data": {
      "image/png": "[encoded data removed]",
      "text/plain": [
       "<Figure size 576x288 with 1 Axes>"
      ]
     },
     "metadata": {
      "needs_background": "light"
     },
     "output_type": "display_data"
    },
    {
     "name": "stdout",
     "output_type": "stream",
     "text": [
      "[1.72487129 1.6509743  1.68523606 1.72786718 2.26237159 1.65890541 2.35035538 1.6171525  1.55373724 1.77148588 1.71292015 1.4020643 ]\n",
      "n vidro = 1.68\n",
      "u(n)    = 0.06\n",
      "u(n)%   = 3.7 %\n"
     ]
    }
   ],
   "source": [
    "# análise parte 1.1\n",
    "theta = np.abs(data_11[ : , 3 ]-data_11[:,2])\n",
    "theta_rad = theta * np.pi / 180 \n",
    "\n",
    "\n",
    "len_n     = len(data_11[ : , 1 ])\n",
    "N         = data_11[:,1]\n",
    "\n",
    "nv    = h * nar_t ** 2 * np.sin( theta_rad )**2 / ( h * nar_t * np.sin( theta_rad ) **2 - N* lambda0 )\n",
    "\n",
    "indM,  = np.where( data_11[:,0] == 0 )\n",
    "indR,  = np.where( data_11[:,0] == 1 )\n",
    "\n",
    "\n",
    "fig11 ,ax11 = plt.subplots( figsize = ( 8 , 4 ) ) \n",
    "\n",
    "nensaio = np.arange( len_n  )\n",
    "ax11.plot( nensaio[indM] ,nv[indM] ,\"m.\" , \n",
    "        label = \"M\" , markersize = markersize  )\n",
    "\n",
    "\n",
    "ax11.plot( nensaio[indR] , nv[indR] , \"b.\" , \n",
    "        label = \"R\" , markersize = markersize  )\n",
    "\n",
    "\n",
    "# primeira estimativa \n",
    "mean_val = np.mean( nv )\n",
    "std_val  = np.std( nv )\n",
    "print(nv.shape)\n",
    "ind, = np.where( np.abs(nv - mean_val)< 1.5 *std_val  )\n",
    "nv = nv[ ind ]\n",
    "# segunda estimativa \n",
    "mean_val = np.mean( nv )\n",
    "std_val  = np.std( nv )\n",
    "print(nv.shape)\n",
    "ind, = np.where( np.abs(nv - mean_val)< 1.5 *std_val  )\n",
    "nv = nv[ ind ]\n",
    "# segunda estimativa \n",
    "mean_val = np.mean( nv )\n",
    "std_val  = np.std( nv )\n",
    "\n",
    "print(nv.shape)\n",
    "\n",
    "ax11.hlines( mean_val          , -1 , len_n , \n",
    "          color = \"lime\",linewidth = 1, \n",
    "          linestyle = \"--\", label = \"Média\")\n",
    "\n",
    "ax11.hlines( mean_val - std_val, -1 , len_n  ,\n",
    "          color = \"green\",linewidth = 1, \n",
    "          linestyle = \"--\", label = r\"$\\sigma$\")\n",
    "\n",
    "ax11.hlines( mean_val + std_val,-1 , len_n  ,\n",
    "          color = \"green\",linewidth = 1, \n",
    "          linestyle = \"--\")    \n",
    "ax11.hlines( mean_val - std_val*2,-1 , len_n  ,\n",
    "          color = \"red\", linewidth = 1, \n",
    "          linestyle = \"--\", label = r\"$2\\sigma$\")\n",
    "\n",
    "ax11.hlines( mean_val + std_val*2,-1 , len_n  ,\n",
    "          color =\"red\" , linewidth = 1, \n",
    "          linestyle = \"--\") \n",
    "\n",
    "\n",
    "nensaio = np.append( nensaio  ,len_n)\n",
    "ax11.set_xticks( nensaio[::2] ) \n",
    "ax11.set_xlim( -1 , len_n )\n",
    "ax11.set_xlabel( \"nº ensaio\", fontsize = fontsize )\n",
    "ax11.set_ylabel( r\"$n_{vidro}$\", fontsize = fontsize )\n",
    "\n",
    "ax11.legend( fontsize = fontsize , ncol = 2 )\n",
    "plt.title(\"Índice Refr. Vidro\")\n",
    "plt.show()\n",
    "\n",
    "nv    = h * nar_t ** 2 * np.sin( theta_rad )**2 / ( h * nar_t * np.sin( theta_rad ) **2 - N* lambda0 )\n",
    "print(nv)\n",
    "print( \"n vidro = {:.2f}\".format(mean_val)  )\n",
    "print( \"u(n)    = {:.2f}\".format(std_val) )\n",
    "print( \"u(n)%   = {:.1f} %\".format(std_val / mean_val * 100))\n"
   ]
  },
  {
   "cell_type": "markdown",
   "id": "27297c1b",
   "metadata": {},
   "source": [
    "# 2ª Parte \n",
    "\n"
   ]
  },
  {
   "cell_type": "code",
   "execution_count": 40,
   "id": "cdd44b2b",
   "metadata": {
    "execution": {
     "iopub.execute_input": "2021-11-28T23:21:47.926007Z",
     "iopub.status.busy": "2021-11-28T23:21:47.925475Z",
     "iopub.status.idle": "2021-11-28T23:21:47.932209Z",
     "shell.execute_reply": "2021-11-28T23:21:47.931727Z",
     "shell.execute_reply.started": "2021-11-28T23:21:47.925983Z"
    }
   },
   "outputs": [],
   "source": [
    "data_20 = np.genfromtxt( \"CSV/parte_2.0.csv\" , delimiter = \",\" , skip_header = True )\n",
    "data_21 = np.genfromtxt( \"CSV/parte_2.1.csv\" , delimiter = \",\", skip_header = True )\n",
    "data_22 = np.genfromtxt( \"CSV/parte_2.2.csv\" , delimiter = \",\", skip_header = True )\n",
    "data_23 = np.genfromtxt( \"CSV/parte_2.3.csv\" , delimiter = \",\", skip_header = True )\n",
    "\n",
    "data_20 = data_20[:,1:4]\n",
    "data_20 = np.delete( data_20 , 3 , 0 )\n",
    "data_21 = data_21[:,2:4]\n",
    "data_22 = data_22[:,:3]\n",
    "data_23 = data_23[:,1:4]\n",
    "\n",
    "\n",
    "d  = 1.734\n",
    "ud = 0.002\n",
    "\n",
    "bt = np.array([ 0.08 , 0.04 ])\n",
    "markersize = 4\n"
   ]
  },
  {
   "cell_type": "markdown",
   "id": "edf4521f",
   "metadata": {},
   "source": [
    "## Parte 2.0 - padrão interferência fendas"
   ]
  },
  {
   "cell_type": "code",
   "execution_count": 41,
   "id": "c592530d",
   "metadata": {
    "execution": {
     "iopub.execute_input": "2021-11-28T23:21:49.668974Z",
     "iopub.status.busy": "2021-11-28T23:21:49.668389Z",
     "iopub.status.idle": "2021-11-28T23:21:49.676546Z",
     "shell.execute_reply": "2021-11-28T23:21:49.676025Z",
     "shell.execute_reply.started": "2021-11-28T23:21:49.668945Z"
    }
   },
   "outputs": [
    {
     "name": "stdout",
     "output_type": "stream",
     "text": [
      "b0     = 0.0774\n",
      "u(b)   = 0.0030\n",
      "u(b)%  = 3.9%\n",
      "err(b) = 3.2%\n",
      "\n",
      "\n",
      "b1     = 0.0416\n",
      "u(b)   = 0.0006\n",
      "u(b)%  = 1.4%\n",
      "err(b) = 4.0%\n",
      "\n",
      "\n"
     ]
    }
   ],
   "source": [
    "bexp = d * lambda0 / ( nar_t * (data_20[:,1]+data_20[:,2]))*2 * data_20[:,0] * 1000000\n",
    "\n",
    "bf   = np.array(( np.mean(bexp[:3]),np.mean(bexp[3:])))\n",
    "ubf  = np.array(( np.std(bexp[:3]),np.std(bexp[3:])))\n",
    "\n",
    "\n",
    "\n",
    "for i in range( 2 ):\n",
    "    print( \"b{}     = {:.4f}\".format(i , bf[i] ))\n",
    "    print( \"u(b)   = {:.4f}\".format(ubf[i] ))\n",
    "    print( \"u(b)%  = {:.1f}%\".format(ubf[i] / bf[i] * 100 ))\n",
    "    print( \"err(b) = {:.1f}%\".format(np.abs( bf[i] - bt[i] )/ bt[i] *100))\n",
    "    print( \"\\n\")\n"
   ]
  },
  {
   "cell_type": "markdown",
   "id": "a5f81f30",
   "metadata": {},
   "source": [
    "## Parte 2.1 - padrão de interferência circular \n"
   ]
  },
  {
   "cell_type": "code",
   "execution_count": 42,
   "id": "e8b95ddb",
   "metadata": {
    "execution": {
     "iopub.execute_input": "2021-11-28T23:21:54.189318Z",
     "iopub.status.busy": "2021-11-28T23:21:54.189116Z",
     "iopub.status.idle": "2021-11-28T23:21:54.195847Z",
     "shell.execute_reply": "2021-11-28T23:21:54.195031Z",
     "shell.execute_reply.started": "2021-11-28T23:21:54.189296Z"
    }
   },
   "outputs": [
    {
     "name": "stdout",
     "output_type": "stream",
     "text": [
      "b exp      =  [0.22298759 0.20413737]\n",
      "b media    = 0.214\n",
      "u(b)       = 0.009\n",
      "u(b)      %= 4.4%\n",
      "err(b)%    = 6.8%\n"
     ]
    }
   ],
   "source": [
    "bessel = sc.special.jn_zeros( 1 , 2 )\n",
    "bt = 0.2\n",
    "\n",
    "bexp     = d * lambda0 / ( nar_t * np.mean( data_21 , axis = 1 )) * bessel / np.pi * 1000000\n",
    "bf       = np.mean( bexp )\n",
    "stdbf    = np.std( bexp )\n",
    "print( \"b exp      = \" , bexp )\n",
    "print( \"b media    = {:.3f}\".format(bf ))\n",
    "print( \"u(b)       = {:.3f}\".format(stdbf) )\n",
    "print( \"u(b)      %= {:.1f}%\".format(stdbf/bf*100) )\n",
    "print( \"err(b)%    = {:.1f}%\".format((bf-bt)/bt*100) )\n",
    "\n",
    "\n",
    "\n"
   ]
  },
  {
   "cell_type": "markdown",
   "id": "c60f8fc5",
   "metadata": {},
   "source": [
    "## Parte 2.2 - padrão de interferência fio de cobre"
   ]
  },
  {
   "cell_type": "code",
   "execution_count": 51,
   "id": "d28258f9",
   "metadata": {
    "execution": {
     "iopub.execute_input": "2021-11-28T23:24:41.522944Z",
     "iopub.status.busy": "2021-11-28T23:24:41.522751Z",
     "iopub.status.idle": "2021-11-28T23:24:41.754443Z",
     "shell.execute_reply": "2021-11-28T23:24:41.753857Z",
     "shell.execute_reply.started": "2021-11-28T23:24:41.522924Z"
    }
   },
   "outputs": [
    {
     "name": "stdout",
     "output_type": "stream",
     "text": [
      "declive =  5.2023809523809526 \n",
      "ordenada =  0.0892857142857153\n",
      "incerteza declive =  0.03331915798362775 \n",
      "incerteza ordenada =  0.16825350029885736\n",
      "incerteza relativa declive =  0.6404597873283138  %\n",
      "----\n",
      "bexp =  0.21085673895988927\n",
      "u(bexp) =  0.0013504526219099244  %\n",
      "----\n",
      "erro palmer =  15.657304416044294  %\n"
     ]
    },
    {
     "data": {
      "image/png": "[encoded data removed]",
      "text/plain": [
       "<Figure size 432x360 with 2 Axes>"
      ]
     },
     "metadata": {
      "needs_background": "light"
     },
     "output_type": "display_data"
    }
   ],
   "source": [
    "bt = 0.25\n",
    "ubt = 0.01\n",
    "\n",
    "def analisa_fios( data_sets , *args ):\n",
    "    n = len( data_sets )\n",
    "    fig = plt.figure( figsize = ( 6 *n ,5  ) )\n",
    "    gaxs = fig.add_gridspec(  ncols = n , hspace=0,wspace = 0 )\n",
    "    axs  = gaxs.subplots( sharey = \"row\")\n",
    "    for i , data_set in enumerate(data_sets) : \n",
    "        \n",
    "        if n == 1 : \n",
    "            ax = axs\n",
    "        else :\n",
    "            ax = axs[i]\n",
    "            \n",
    "            \n",
    "        y1 , y2 = data_set[:,1],data_set[:,2]\n",
    "        Y   = ( y1 + y2 ) / 2 \n",
    "        m   = data_set[:,0]\n",
    "        bexp = d * lambda0 / ( nar_t * Y) * m * 1000000\n",
    "\n",
    "        ax.plot( m , y1 , \"r.\" ,label = r\"$Y_1$\" , markersize = markersize )\n",
    "        ax.plot( m , y2 , \"b.\",label = r\"$Y_2$\" , markersize = markersize )\n",
    "        ax.plot( m , Y , \".\" ,label = r\"$\\bar{Y}$\", color = \"purple\" , markersize = markersize )\n",
    "\n",
    "        result = sps.linregress( m , Y )\n",
    "        dec , o = result.slope , result.intercept \n",
    "        udec , uo = result.stderr , result.intercept_stderr\n",
    "\n",
    "        print( \"declive = \" , dec , \"\\nordenada = \" , o )\n",
    "        print( \"incerteza declive = \" , udec , \"\\nincerteza ordenada = \" , uo )\n",
    "        print( \"incerteza relativa declive = \" , udec / dec * 100 , \" %\")\n",
    "        print( \"----\")\n",
    "        bexp = d * lambda0 / ( nar_t * dec ) *1e6\n",
    "        print( \"bexp = \" , bexp )\n",
    "        print( \"u(bexp) = \" , bexp *udec / dec  , \" %\" )\n",
    "        print( \"----\")\n",
    "\n",
    "        ax.plot( m , m * dec + o , \"--\" , linewidth = 1 , label = \"Fit\" )\n",
    "        ax.set_title(args[i])\n",
    "        axres = inset_axes(ax, width=\"30%\", height=\"30%\", loc= 4 , borderpad = 2 )\n",
    "\n",
    "        axres.plot( m , m * dec + o - Y , \".\" ,label= args[i] , markersize = markersize )\n",
    "        axres.set_ylabel( \"res Y / mm\")\n",
    "        ax.legend( loc = 2 )\n",
    "        ax.set_xlabel( \"m\")\n",
    "        if i == 0 :\n",
    "            ax.set_ylabel( \"Y / mm\")\n",
    "\n",
    "\n",
    "\n",
    "\n",
    "    return bexp , ax  , fig\n",
    "    \n",
    "bexp , ax, fig  = analisa_fios( [data_22] , \"Fio Cobre\")\n",
    "print( \"erro palmer = \" , np.abs( bexp - bt ) / bt * 100 , \" %\")\n"
   ]
  },
  {
   "cell_type": "markdown",
   "id": "367d6d7f",
   "metadata": {},
   "source": [
    "## Parte 2.3 - padrão de interferência cabelos"
   ]
  },
  {
   "cell_type": "code",
   "execution_count": 53,
   "id": "0a41fcb6",
   "metadata": {
    "execution": {
     "iopub.execute_input": "2021-11-28T23:26:29.751205Z",
     "iopub.status.busy": "2021-11-28T23:26:29.751003Z",
     "iopub.status.idle": "2021-11-28T23:26:30.247555Z",
     "shell.execute_reply": "2021-11-28T23:26:30.246870Z",
     "shell.execute_reply.started": "2021-11-28T23:26:29.751186Z"
    }
   },
   "outputs": [
    {
     "name": "stdout",
     "output_type": "stream",
     "text": [
      "declive =  12.05 \n",
      "ordenada =  1.0\n",
      "incerteza declive =  0.13228756555320811 \n",
      "incerteza ordenada =  0.3622844186546773\n",
      "incerteza relativa declive =  1.0978221207735113  %\n",
      "----\n",
      "bexp =  0.09103378277560918\n",
      "u(bexp) =  0.0009993890046875442  %\n",
      "----\n",
      "declive =  16.15 \n",
      "ordenada =  0.25\n",
      "incerteza declive =  0.08660254037838465 \n",
      "incerteza ordenada =  0.2371708245124663\n",
      "incerteza relativa declive =  0.5362386401138368  %\n",
      "----\n",
      "bexp =  0.06792303916074865\n",
      "u(bexp) =  0.00036422958151958746  %\n",
      "----\n"
     ]
    },
    {
     "data": {
      "text/plain": [
       "(0.06792303916074865,\n",
       " <AxesSubplot:title={'center':'Cabelo Miguel'}, xlabel='m'>,\n",
       " <Figure size 864x360 with 4 Axes>)"
      ]
     },
     "execution_count": 53,
     "metadata": {},
     "output_type": "execute_result"
    },
    {
     "data": {
      "image/png": "[encoded data removed]",
      "text/plain": [
       "<Figure size 864x360 with 4 Axes>"
      ]
     },
     "metadata": {
      "needs_background": "light"
     },
     "output_type": "display_data"
    }
   ],
   "source": [
    "Rarr = data_23[:4,:]\n",
    "Marr = data_23[4:,:]\n",
    "analisa_fios( [Rarr,Marr],\"Cabelo Renata\", \"Cabelo Miguel\")"
   ]
  },
  {
   "cell_type": "code",
   "execution_count": null,
   "id": "9bd7fb4a",
   "metadata": {},
   "outputs": [],
   "source": []
  }
 ],
 "metadata": {
  "kernelspec": {
   "display_name": "Python 3 (ipykernel)",
   "language": "python",
   "name": "python3"
  },
  "language_info": {
   "codemirror_mode": {
    "name": "ipython",
    "version": 3
   },
   "file_extension": ".py",
   "mimetype": "text/x-python",
   "name": "python",
   "nbconvert_exporter": "python",
   "pygments_lexer": "ipython3",
   "version": "3.8.10"
  }
 },
 "nbformat": 4,
 "nbformat_minor": 5
}
