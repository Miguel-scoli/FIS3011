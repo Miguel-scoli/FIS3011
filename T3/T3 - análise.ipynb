{
 "cells": [
  {
   "cell_type": "code",
   "execution_count": 153,
   "id": "1855ea13",
   "metadata": {},
   "outputs": [],
   "source": [
    "import numpy as np\n",
    "import matplotlib.pyplot as plt\n",
    "import scipy.stats as sps\n",
    "import scipy.optimize as spo\n",
    "import scipy as sc\n",
    "import sympy as sp\n",
    "np.set_printoptions(suppress=True, linewidth= 500)\n",
    "from mpl_toolkits.axes_grid1.inset_locator import inset_axes"
   ]
  },
  {
   "cell_type": "code",
   "execution_count": 154,
   "id": "4b63c800",
   "metadata": {},
   "outputs": [],
   "source": [
    "# --- Formatação da figura ---\n",
    "cm          = 1/2.54  # centimeters in inches\n",
    "figsize     = ( 12*cm, 10*cm )\n",
    "dpi         = 100\n",
    "\n",
    "# --- Texto que apareça no gráfico ---\n",
    "fontsize        = 8\n",
    "legend_label    = \"Pontos Experimentais\"\n",
    "xlabel          = \"\"\n",
    "ylabel          = \"$\\|\\epsilon| $(mV)\"\n",
    "\n",
    "# --- Formação dos pontos ---\n",
    "marker_type = \".\"\n",
    "markersize  = 2.5\n",
    "color_mk    = \"lime\"\n",
    "\n",
    "\n",
    "# --- formatação da escala do gráfico ---\n",
    "xticks      = np.linspace( - 1 , 1 , 10 )\n",
    "yticks      = np.linspace( -20 , 20 , 9)\n",
    "\n",
    "# --- Transparência da grid ---\n",
    "alpha_grid = 0.5 \n",
    "\n",
    "# --- Formatação barras de erro --- \n",
    "color_bars    = \"k\"\n",
    "alpha_bars    = 0.5\n",
    "thickness     = 1 \n",
    "head_size     = 1 \n",
    "head_thick    = 0.2 \n",
    "\n",
    "# --- Informação para guardar a imagem ---\n",
    "fig_name = \"fig1\" #sem o png!\n",
    "\n",
    "\n",
    "# --- data para dar plot ---\n",
    "#data_x = ...\n",
    "#data_y = ...\n",
    "#u x    = ...\n",
    "#u_y    = ..."
   ]
  },
  {
   "cell_type": "markdown",
   "id": "6c02d5fc",
   "metadata": {},
   "source": [
    "# 1ª Parte "
   ]
  },
  {
   "cell_type": "code",
   "execution_count": 176,
   "id": "0791ad4f",
   "metadata": {},
   "outputs": [],
   "source": [
    "data_10 = np.genfromtxt( \"CSV\\parte_1.0.csv\" , delimiter = \",\" , skip_header = True )\n",
    "data_11 = np.genfromtxt( \"CSV\\parte_1.1.csv\" , delimiter = \",\", skip_header = True )\n",
    "data_11 = data_11[ : , :4]\n",
    "data_10 = data_10[ : , :5]\n",
    "\n",
    "# usamos os valores retirados do protocolo porque nos esquecemos de usar o palmer para medir a espessura do fio! \n",
    "h0       = 5.5e-3 # m \n",
    "lambda0 = 632.8e-9 # m \n",
    "nar_t   = 1.00029 # não vale a pena procurar os valores correspondentes à temperatura e pressão da sala.\n",
    "                  # não vamos ter precisão suficiente para notar diferenças a esse nível \n",
    "\n"
   ]
  },
  {
   "cell_type": "code",
   "execution_count": 177,
   "id": "e8cf9c81",
   "metadata": {},
   "outputs": [],
   "source": [
    "udeltad = 0.01e-4 \n",
    "uN      = 5\n",
    "N       = data_10[:,2]\n",
    "\n",
    "\n",
    "deltad = np.abs(data_10[:,4]-data_10[:,3]) * 1e-4\n",
    "\n",
    "markersize_1 = 7\n",
    "fontsize   = 12"
   ]
  },
  {
   "cell_type": "code",
   "execution_count": 180,
   "id": "0158279b",
   "metadata": {
    "scrolled": false
   },
   "outputs": [
    {
     "name": "stdout",
     "output_type": "stream",
     "text": [
      "n ar = 0.80\n",
      "u(n)    = 0.09\n",
      "u(n)%   = 11%\n",
      "err(n)  = 20%\n"
     ]
    },
    {
     "data": {
      "image/png": "[encoded data removed]",
      "text/plain": [
       "<Figure size 576x288 with 1 Axes>"
      ]
     },
     "metadata": {
      "needs_background": "light"
     },
     "output_type": "display_data"
    }
   ],
   "source": [
    "# análise parte 1.0\n",
    "n      = data_10[ :,2 ] * lambda0 / deltad * 0.5 \n",
    "un     = n * np.sqrt( ( uN / N ) ** 2 + ( udeltad / deltad )** 2 )\n",
    "len_n = len( n )\n",
    "N = data_10[ : , 2 ]\n",
    "uN = 5 \n",
    "\n",
    "\n",
    "indM   = data_10[:,0]==0\n",
    "indR   = data_10[:,0]==1\n",
    "indCW  = data_10[:,1]==0\n",
    "indCCW = data_10[:,1]==1\n",
    "\n",
    "indMCCW = indM * indCCW\n",
    "indMCW  = indM * indCW\n",
    "indRCCW = indR * indCCW\n",
    "indRCW  = indR * indCW\n",
    "\n",
    "fig10 , ax10 = plt.subplots( figsize = ( 8 , 4 ) ) \n",
    "\n",
    "nensaio = np.arange( len( n )  )\n",
    "\n",
    "ax10.errorbar( nensaio , n , yerr = un , fmt = \"k,\" , elinewidth = 0.7  , capsize = 2 )\n",
    "\n",
    "ax10.plot( nensaio[indMCW] ,n[indMCW] ,\"m.\" , \n",
    "        label = \"M CW\" , markersize = markersize_1  )\n",
    "ax10.plot( nensaio[indMCCW] , n[indMCCW] ,\"mx\" , \n",
    "        label = \"M CCW\" , markersize = markersize_1  )\n",
    "\n",
    "ax10.plot( nensaio[indRCW] , n[indRCW] , \"b.\" , \n",
    "        label = \"R CW\" , markersize = markersize_1  )\n",
    "ax10.plot( nensaio[indRCCW] , n[indRCCW] , \"bx\" ,\n",
    "        label = \"R CCW\" , markersize = markersize_1  )\n",
    "\n",
    "\n",
    "mean_val = np.mean( n[2:])\n",
    "std_val  = np.std( n[2:])\n",
    "\n",
    "\n",
    "ax10.hlines( mean_val          , -1 , len_n , \n",
    "          color = \"lime\",linewidth = 1, \n",
    "          linestyle = \"--\", label = \"Média\")\n",
    "\n",
    "ax10.hlines( mean_val - std_val, -1 , len_n  ,\n",
    "          color = \"green\",linewidth = 1, \n",
    "          linestyle = \"--\", label = r\"$\\sigma$\")\n",
    "\n",
    "ax10.hlines( mean_val + std_val,-1 , len_n  ,\n",
    "          color = \"green\",linewidth = 1, \n",
    "          linestyle = \"--\")    \n",
    "ax10.hlines( mean_val - std_val*2,-1 , len_n  ,\n",
    "          color = \"red\", linewidth = 1, \n",
    "          linestyle = \"--\", label = r\"$2\\sigma$\")\n",
    "\n",
    "ax10.hlines( mean_val + std_val*2,-1 , len_n  ,\n",
    "          color =\"red\" , linewidth = 1, \n",
    "          linestyle = \"--\") \n",
    "\n",
    "ax10.hlines(1, -1,len_n  ,\n",
    "          color =\"blue\", linewidth = 1, \n",
    "          linestyle = \"--\" , label = r\"$n_{ref}$\")\n",
    "\n",
    "\n",
    "nensaio = np.append( nensaio  ,len_n)\n",
    "ax10.set_xticks( nensaio[::2] ) \n",
    "ax10.set_xlim( -1 , len_n )\n",
    "ax10.set_xlabel( \"nº Ensaio\", fontsize = fontsize )\n",
    "ax10.set_ylabel( r\"$n_{ar}$\", fontsize = fontsize )\n",
    "\n",
    "un = n * np.sqrt( ( uN / N )**2 + ( udeltad / deltad )**2)\n",
    "\n",
    "ax10.legend( fontsize = fontsize , ncol = 2 )\n",
    "ax10.set_title( \"Ind. Refração do ar\")\n",
    "\n",
    "\n",
    "\n",
    "#ax10.annotate(\"\",\n",
    "#            xy=(0.4, 0.37), xycoords='data',\n",
    "#            xytext=(4, 0.3), textcoords='data',\n",
    "#            arrowprops=dict(arrowstyle=\"->\",\n",
    "#                            connectionstyle=\"arc3\"),\n",
    "#            )\n",
    "#\n",
    "#ax10.annotate(\"Retirados \\nda análise\",\n",
    "#            xy=(1.2, 0.21), xycoords='data',\n",
    "#            xytext=(4, 0.3), textcoords='data',\n",
    "#            arrowprops=dict(arrowstyle=\"->\",\n",
    "#                            connectionstyle=\"arc3\"),\n",
    "#            )\n",
    "\n",
    "\n",
    "print( \"n ar = {:.2f}\".format(mean_val)  )\n",
    "print( \"u(n)    = {:.2f}\".format(std_val) )\n",
    "print( \"u(n)%   = {:.0f}%\".format(std_val / mean_val * 100))\n",
    "print( \"err(n)  = {:.0f}%\".format( ( 1 - mean_val ) * 100 ))\n",
    "plt.show()"
   ]
  },
  {
   "cell_type": "markdown",
   "id": "91a4be3a",
   "metadata": {},
   "source": [
    "### Análise por ajuste linear\n",
    "\n",
    "$$\n",
    "N = m\\Delta d + b \n",
    "$$\n",
    "\n",
    "Onde \n",
    "\n",
    "$$\n",
    "n_{ar}= m\\lambda_0 / 2 \\quad, b =0\n",
    "$$"
   ]
  },
  {
   "cell_type": "code",
   "execution_count": 181,
   "id": "6902d0d4",
   "metadata": {
    "scrolled": false
   },
   "outputs": [
    {
     "name": "stdout",
     "output_type": "stream",
     "text": [
      "n ar = 0.9\n",
      "u(n)    = 0.1\n",
      "u(n)%   = 10%\n",
      "err(n)  = 8%\n"
     ]
    },
    {
     "data": {
      "image/png": "[encoded data removed]",
      "text/plain": [
       "<Figure size 432x288 with 2 Axes>"
      ]
     },
     "metadata": {
      "needs_background": "light"
     },
     "output_type": "display_data"
    }
   ],
   "source": [
    "deltad_new , N_new = np.copy(deltad[2:]) , np.copy(N[2:])\n",
    "deltad_new *= 1e6\n",
    "markersize_2 = 4 \n",
    "\n",
    "fig_aj , ax_aj = plt.subplots( figsize = ( 6 , 4 ) )\n",
    "ax_aj.plot(  deltad_new , N_new ,\n",
    "           \".\" , label = \"Dt exp\",\n",
    "           markersize = markersize_2 \n",
    "          )\n",
    "result = sps.linregress( deltad_new , N_new )\n",
    "\n",
    "m , b , r , p , um = result[:]\n",
    "ub = result.intercept_stderr\n",
    "\n",
    "\n",
    "sorted_delta = np.copy( deltad_new )\n",
    "sorted_delta = np.sort( sorted_delta )\n",
    "ax_aj.plot( sorted_delta , sorted_delta * m + b ,\n",
    "           \".--\" , label = \"fit\", \n",
    "           markersize = markersize_2, \n",
    "          )\n",
    "\n",
    "ax_ajres = inset_axes(ax_aj, width=\"30%\", height=\"30%\", loc= 4 , borderpad = 2 )\n",
    "ax_ajres.plot( deltad_new , deltad_new*m+b - N_new , \n",
    "              \"b.\" , markersize = markersize_2 )\n",
    "ax_ajres.set_title( \"Resíduos\")\n",
    "\n",
    "ax_aj.set_xlabel( r\"$\\Delta d$ / $\\mu m $\" , fontsize = fontsize )\n",
    "ax_aj.set_ylabel( r\"$N_{Max}$\" , fontsize = fontsize )\n",
    "ax_aj.legend()\n",
    "ax_aj.set_title( \"Ind. Refração ar \")\n",
    "\n",
    "\n",
    "\n",
    "val = m * lambda0 *1e6 * 0.5\n",
    "uval = val * um / m \n",
    "\n",
    "\n",
    "print( \"n ar = {:.1f}\".format(val)  )\n",
    "print( \"u(n)    = {:.1f}\".format(uval ) )\n",
    "print( \"u(n)%   = {:.0f}%\".format(uval / val * 100))\n",
    "print( \"err(n)  = {:.0f}%\".format( ( 1 - val ) * 100 ))\n"
   ]
  },
  {
   "cell_type": "code",
   "execution_count": 159,
   "id": "ee995315",
   "metadata": {},
   "outputs": [
    {
     "data": {
      "text/latex": [
       "$\\displaystyle \\frac{n_{a}}{- \\frac{N \\lambda_{0}}{h n_{a} \\sin^{2}{\\left(\\theta \\right)}} + 1}$"
      ],
      "text/plain": [
       "n_a/(-N*lambda_0/(h*n_a*sin(theta)**2) + 1)"
      ]
     },
     "execution_count": 159,
     "metadata": {},
     "output_type": "execute_result"
    }
   ],
   "source": [
    "# para o cálculo das incertezas\n",
    "N , n , na , l , h , theta = sp.symbols( \"N n n_a lambda_0 h theta\")\n",
    "nv = na / ( 1 - ( N * l )/ ( h * na * sp.sin( theta )**2))\n",
    "nv "
   ]
  },
  {
   "cell_type": "code",
   "execution_count": 160,
   "id": "39923e93",
   "metadata": {},
   "outputs": [
    {
     "data": {
      "text/latex": [
       "$\\displaystyle - \\frac{2 N \\lambda_{0} \\cos{\\left(\\theta \\right)}}{h \\left(- \\frac{N \\lambda_{0}}{h n_{a} \\sin^{2}{\\left(\\theta \\right)}} + 1\\right)^{2} \\sin^{3}{\\left(\\theta \\right)}}$"
      ],
      "text/plain": [
       "-2*N*lambda_0*cos(theta)/(h*(-N*lambda_0/(h*n_a*sin(theta)**2) + 1)**2*sin(theta)**3)"
      ]
     },
     "execution_count": 160,
     "metadata": {},
     "output_type": "execute_result"
    }
   ],
   "source": [
    "nv.diff( theta )"
   ]
  },
  {
   "cell_type": "code",
   "execution_count": 161,
   "id": "1c94c2e7",
   "metadata": {},
   "outputs": [
    {
     "data": {
      "text/latex": [
       "$\\displaystyle \\frac{\\lambda_{0}}{h \\left(- \\frac{N \\lambda_{0}}{h n_{a} \\sin^{2}{\\left(\\theta \\right)}} + 1\\right)^{2} \\sin^{2}{\\left(\\theta \\right)}}$"
      ],
      "text/plain": [
       "lambda_0/(h*(-N*lambda_0/(h*n_a*sin(theta)**2) + 1)**2*sin(theta)**2)"
      ]
     },
     "execution_count": 161,
     "metadata": {},
     "output_type": "execute_result"
    }
   ],
   "source": [
    "nv.diff( N )"
   ]
  },
  {
   "cell_type": "code",
   "execution_count": 182,
   "id": "567d78dd",
   "metadata": {},
   "outputs": [
    {
     "data": {
      "image/png": "[encoded data removed]",
      "text/plain": [
       "<Figure size 576x288 with 1 Axes>"
      ]
     },
     "metadata": {
      "needs_background": "light"
     },
     "output_type": "display_data"
    },
    {
     "name": "stdout",
     "output_type": "stream",
     "text": [
      "n vidro = 1.68\n",
      "u(n)    = 0.06\n",
      "u(n)%   = 3.7 %\n"
     ]
    }
   ],
   "source": [
    "# análise parte 1.1\n",
    "theta = np.abs(data_11[ : , 3 ]-data_11[:,2])\n",
    "theta_rad = theta * np.pi / 180 \n",
    "utheta = 0.1 * np.pi / 180 \n",
    "\n",
    "\n",
    "len_n     = len(data_11[ : , 1 ])\n",
    "N         = data_11[:,1]\n",
    "uN        = 5 \n",
    "nv    = h0 * nar_t ** 2 * np.sin( theta_rad )**2 / ( h0 * nar_t * np.sin( theta_rad ) **2 - N* lambda0 )\n",
    "\n",
    "# expressão da incerteza da nv \n",
    "unv = np.sqrt( (2 * N * lambda0 * np.cos( theta_rad )/\\\n",
    "                (h0 * np.sin( theta_rad )**3 * ( 1 - N * lambda0 /\\\n",
    "                ( h0 * nar_t * np.sin( theta_rad )**2))))**2 * utheta ** 2 + \\\n",
    "                 (lambda0 / ( h0 * np.sin( theta_rad )**2 * \\\n",
    "                  ( 1 - N * lambda0 / ( h0 * nar_t * np.sin( theta_rad )**2 ))))**2 * uN**2)\n",
    "\n",
    "indM,  = np.where( data_11[:,0] == 0 )\n",
    "indR,  = np.where( data_11[:,0] == 1 )\n",
    "\n",
    "\n",
    "fig11 ,ax11 = plt.subplots( figsize = ( 8 , 4 ) ) \n",
    "\n",
    "nensaio = np.arange( len_n  )\n",
    "\n",
    "ax11.errorbar( nensaio , nv , yerr = unv , fmt = \"k,\" , elinewidth = 0.7  , capsize = 2 )\n",
    "\n",
    "ax11.plot( nensaio[indM] ,nv[indM] ,\"m.\" , \n",
    "        label = \"M\" , markersize = markersize_1  )\n",
    "\n",
    "\n",
    "ax11.plot( nensaio[indR] , nv[indR] , \"b.\" , \n",
    "        label = \"R\" , markersize = markersize_1  )\n",
    "\n",
    "\n",
    "# primeira estimativa \n",
    "mean_val = np.mean( nv )\n",
    "std_val  = np.std( nv )\n",
    "ind, = np.where( np.abs(nv - mean_val)< 1.5 *std_val  )\n",
    "nv = nv[ ind ]\n",
    "# segunda estimativa \n",
    "mean_val = np.mean( nv )\n",
    "std_val  = np.std( nv )\n",
    "\n",
    "ind, = np.where( np.abs(nv - mean_val)< 1.5 *std_val  )\n",
    "nv = nv[ ind ]\n",
    "# segunda estimativa \n",
    "mean_val = np.mean( nv )\n",
    "std_val  = np.std( nv )\n",
    "\n",
    "\n",
    "\n",
    "ax11.hlines( mean_val          , -1 , len_n , \n",
    "          color = \"lime\",linewidth = 1, \n",
    "          linestyle = \"--\", label = \"Média\")\n",
    "\n",
    "ax11.hlines( mean_val - std_val, -1 , len_n  ,\n",
    "          color = \"green\",linewidth = 1, \n",
    "          linestyle = \"--\", label = r\"$\\sigma$\")\n",
    "\n",
    "ax11.hlines( mean_val + std_val,-1 , len_n  ,\n",
    "          color = \"green\",linewidth = 1, \n",
    "          linestyle = \"--\")    \n",
    "ax11.hlines( mean_val - std_val*2,-1 , len_n  ,\n",
    "          color = \"red\", linewidth = 1, \n",
    "          linestyle = \"--\", label = r\"$2\\sigma$\")\n",
    "\n",
    "ax11.hlines( mean_val + std_val*2,-1 , len_n  ,\n",
    "          color =\"red\" , linewidth = 1, \n",
    "          linestyle = \"--\") \n",
    "\n",
    "ax11.hlines( 1.52 ,-1 , len_n  ,\n",
    "          color =\"blue\" , linewidth = 1, \n",
    "          linestyle = \"--\" , label = r\"$n_{ref}$\") \n",
    "\n",
    "\n",
    "nensaio = np.append( nensaio  ,len_n)\n",
    "ax11.set_xticks( nensaio[::2] ) \n",
    "ax11.set_xlim( -1 , len_n )\n",
    "ax11.set_xlabel( \"nº Ensaio\", fontsize = fontsize )\n",
    "ax11.set_ylabel( r\"$n_{vidro}$\", fontsize = fontsize )\n",
    "\n",
    "ax11.legend( fontsize = fontsize , ncol = 2 )\n",
    "ax11.set_title( \"Ind. Refração vidro\")\n",
    "\n",
    "plt.show()\n",
    "\n",
    "\n",
    "print( \"n vidro = {:.2f}\".format(mean_val)  )\n",
    "print( \"u(n)    = {:.2f}\".format(std_val) )\n",
    "print( \"u(n)%   = {:.1f} %\".format(std_val / mean_val * 100))"
   ]
  },
  {
   "cell_type": "markdown",
   "id": "9aecf346",
   "metadata": {},
   "source": [
    "# 2ª Parte \n",
    "\n"
   ]
  },
  {
   "cell_type": "code",
   "execution_count": 163,
   "id": "caeeccc0",
   "metadata": {},
   "outputs": [],
   "source": [
    "data_20 = np.genfromtxt( \"CSV\\parte_2.0.csv\" , delimiter = \",\" , skip_header = True )\n",
    "data_21 = np.genfromtxt( \"CSV\\parte_2.1.csv\" , delimiter = \",\", skip_header = True )\n",
    "data_22 = np.genfromtxt( \"CSV\\parte_2.2.csv\" , delimiter = \",\", skip_header = True )\n",
    "data_23 = np.genfromtxt( \"CSV\\parte_2.3.csv\" , delimiter = \",\", skip_header = True )\n",
    "\n",
    "data_20 = data_20[:,1:4]\n",
    "data_20 = np.delete( data_20 , 3 , 0 )\n",
    "data_21 = data_21[:,2:4]\n",
    "data_22 = data_22[:,:3]\n",
    "data_23 = data_23[:,1:4]\n",
    "\n",
    "\n",
    "d  = 1.734\n",
    "ud = 0.002\n",
    "\n",
    "bt = np.array([ 0.08 , 0.04 ])\n",
    "markersize = 4\n"
   ]
  },
  {
   "cell_type": "markdown",
   "id": "368d8dcf",
   "metadata": {},
   "source": [
    "## Parte 2.0 - padrão interferência fendas"
   ]
  },
  {
   "cell_type": "code",
   "execution_count": 164,
   "id": "19bf1855",
   "metadata": {},
   "outputs": [
    {
     "name": "stdout",
     "output_type": "stream",
     "text": [
      "b0     = 0.0774\n",
      "u(b)   = 0.0030\n",
      "u(b)%  = 3.9%\n",
      "err(b) = 3.2%\n",
      "\n",
      "\n",
      "b1     = 0.0416\n",
      "u(b)   = 0.0006\n",
      "u(b)%  = 1.4%\n",
      "err(b) = 4.0%\n",
      "\n",
      "\n"
     ]
    }
   ],
   "source": [
    "bexp = d * lambda0 / ( nar_t * (data_20[:,1]+data_20[:,2]))*2 * data_20[:,0] * 1000000\n",
    "\n",
    "bf   = np.array(( np.mean(bexp[:3]),np.mean(bexp[3:])))\n",
    "ubf  = np.array(( np.std(bexp[:3]),np.std(bexp[3:])))\n",
    "\n",
    "\n",
    "\n",
    "for i in range( 2 ):\n",
    "    print( \"b{}     = {:.4f}\".format(i , bf[i] ))\n",
    "    print( \"u(b)   = {:.4f}\".format(ubf[i] ))\n",
    "    print( \"u(b)%  = {:.1f}%\".format(ubf[i] / bf[i] * 100 ))\n",
    "    print( \"err(b) = {:.1f}%\".format(np.abs( bf[i] - bt[i] )/ bt[i] *100))\n",
    "    print( \"\\n\")\n"
   ]
  },
  {
   "cell_type": "markdown",
   "id": "048512d1",
   "metadata": {},
   "source": [
    "## Parte 2.1 - padrão de interferência circular \n"
   ]
  },
  {
   "cell_type": "code",
   "execution_count": 165,
   "id": "8aa5f9f3",
   "metadata": {},
   "outputs": [
    {
     "name": "stdout",
     "output_type": "stream",
     "text": [
      "b exp      =  [0.22298759 0.20413737]\n",
      "b media    = 0.214\n",
      "u(b)       = 0.009\n",
      "u(b)      %= 4.4%\n",
      "err(b)%    = 6.8%\n"
     ]
    }
   ],
   "source": [
    "bessel = sc.special.jn_zeros( 1 , 2 )\n",
    "bt = 0.2\n",
    "\n",
    "bexp     = d * lambda0 / ( nar_t * np.mean( data_21 , axis = 1 )) * bessel / np.pi * 1000000\n",
    "bf       = np.mean( bexp )\n",
    "stdbf    = np.std( bexp )\n",
    "print( \"b exp      = \" , bexp )\n",
    "print( \"b media    = {:.3f}\".format(bf ))\n",
    "print( \"u(b)       = {:.3f}\".format(stdbf) )\n",
    "print( \"u(b)      %= {:.1f}%\".format(stdbf/bf*100) )\n",
    "print( \"err(b)%    = {:.1f}%\".format((bf-bt)/bt*100) )\n",
    "\n",
    "\n",
    "\n"
   ]
  },
  {
   "cell_type": "markdown",
   "id": "0baa336e",
   "metadata": {},
   "source": [
    "## Parte 2.2 - padrão de interferência fio de cobre"
   ]
  },
  {
   "cell_type": "code",
   "execution_count": 184,
   "id": "a56f7683",
   "metadata": {
    "scrolled": false
   },
   "outputs": [
    {
     "name": "stdout",
     "output_type": "stream",
     "text": [
      "declive =  5.2023809523809526 \n",
      "ordenada =  0.0892857142857153\n",
      "incerteza declive =  0.03331915798362775 \n",
      "incerteza ordenada =  0.16825350029885736\n",
      "incerteza relativa declive =  0.6404597873283138  %\n",
      "----\n",
      "bexp =  0.21085673895988927\n",
      "u(bexp) =  0.0013504526219099244  %\n",
      "----\n",
      "erro palmer =  15.657304416044294  %\n"
     ]
    },
    {
     "data": {
      "image/png": "[encoded data removed]",
      "text/plain": [
       "<Figure size 432x360 with 2 Axes>"
      ]
     },
     "metadata": {
      "needs_background": "light"
     },
     "output_type": "display_data"
    }
   ],
   "source": [
    "bt = 0.25\n",
    "ubt = 0.01\n",
    "\n",
    "def analisa_fios( data_sets , *args ):\n",
    "    n = len( data_sets )\n",
    "    fig = plt.figure( figsize = ( 6 *n ,5  ) )\n",
    "    gaxs = fig.add_gridspec(  ncols = n , hspace=0,wspace = 0 )\n",
    "    axs  = gaxs.subplots( sharey = \"row\")\n",
    "\n",
    "    \n",
    "\n",
    "\n",
    "\n",
    "    for i , data_set in enumerate(data_sets) : \n",
    "        \n",
    "        if n == 1 : \n",
    "            ax = axs\n",
    "        else :\n",
    "            ax = axs[i]\n",
    "            \n",
    "            \n",
    "        y1 , y2 = data_set[:,1],data_set[:,2]\n",
    "        Y   = ( y1 + y2 ) / 2 \n",
    "        m   = data_set[:,0]\n",
    "        bexp = d * lambda0 / ( nar_t * Y) * m * 1000000\n",
    "\n",
    "        ax.plot( m , y1 , \"r.\" ,label = args[i] + r\" $Y_1$\" , markersize = markersize )\n",
    "        ax.plot( m , y2 , \"b.\",label = args[i]+r\" $Y_2$\" , markersize = markersize )\n",
    "        ax.plot( m , Y , \".\" ,label = r\" $\\bar{Y}$\", color = \"purple\" , markersize = markersize )\n",
    "\n",
    "        result = sps.linregress( m , Y )\n",
    "        dec , o = result.slope , result.intercept \n",
    "        udec , uo = result.stderr , result.intercept_stderr\n",
    "\n",
    "        print( \"declive = \" , dec , \"\\nordenada = \" , o )\n",
    "        print( \"incerteza declive = \" , udec , \"\\nincerteza ordenada = \" , uo )\n",
    "        print( \"incerteza relativa declive = \" , udec / dec * 100 , \" %\")\n",
    "        print( \"----\")\n",
    "        bexp = d * lambda0 / ( nar_t * dec ) *1e6\n",
    "        print( \"bexp = \" , bexp )\n",
    "        print( \"u(bexp) = \" , bexp *udec / dec  , \" %\" )\n",
    "        print( \"----\")\n",
    "\n",
    "        ax.plot( m , m * dec + o , \"--\" , linewidth = 1 , label = \"fit\" )\n",
    "        axres = inset_axes(ax, width=\"30%\", height=\"30%\", loc= 4 , borderpad = 2 )\n",
    "\n",
    "        axres.plot( m , m * dec + o - Y , \".\" ,label= args[i] , markersize = markersize )\n",
    "        axres.set_ylabel( \"res Y / mm\")\n",
    "        ax.legend( loc = 2 )\n",
    "        ax.set_xlabel( \"m\")\n",
    "        if i == 0 :\n",
    "            ax.set_ylabel( \"Y / mm\")\n",
    "\n",
    "\n",
    "\n",
    "\n",
    "    return bexp , axs  , fig\n",
    "    \n",
    "bexp , ax, fig  = analisa_fios( [data_22] , \"\")\n",
    "ax.set_title( \"Fio de cobre\")\n",
    "print( \"erro palmer = \" , np.abs( bexp - bt ) / bt * 100 , \" %\")\n"
   ]
  },
  {
   "cell_type": "markdown",
   "id": "b66c3ccf",
   "metadata": {},
   "source": [
    "## Parte 2.3 - padrão de interferência cabelos"
   ]
  },
  {
   "cell_type": "code",
   "execution_count": 167,
   "id": "a2108fb4",
   "metadata": {
    "scrolled": false
   },
   "outputs": [
    {
     "name": "stdout",
     "output_type": "stream",
     "text": [
      "declive =  12.05 \n",
      "ordenada =  1.0\n",
      "incerteza declive =  0.13228756555320811 \n",
      "incerteza ordenada =  0.3622844186546773\n",
      "incerteza relativa declive =  1.0978221207735113  %\n",
      "----\n",
      "bexp =  0.09103378277560918\n",
      "u(bexp) =  0.0009993890046875442  %\n",
      "----\n",
      "declive =  16.15 \n",
      "ordenada =  0.25\n",
      "incerteza declive =  0.08660254037838465 \n",
      "incerteza ordenada =  0.2371708245124663\n",
      "incerteza relativa declive =  0.5362386401138368  %\n",
      "----\n",
      "bexp =  0.06792303916074865\n",
      "u(bexp) =  0.00036422958151958746  %\n",
      "----\n"
     ]
    },
    {
     "data": {
      "text/plain": [
       "Text(0.5, 1.0, 'Cabelo Miguel')"
      ]
     },
     "execution_count": 167,
     "metadata": {},
     "output_type": "execute_result"
    },
    {
     "data": {
      "image/png": "[encoded data removed]",
      "text/plain": [
       "<Figure size 864x360 with 4 Axes>"
      ]
     },
     "metadata": {
      "needs_background": "light"
     },
     "output_type": "display_data"
    }
   ],
   "source": [
    "Rarr = data_23[:4,:]\n",
    "Marr = data_23[4:,:]\n",
    "b , axs , fig = analisa_fios( [Rarr,Marr],\"\", \"\")\n",
    "\n",
    "axs[0].set_title( \"Cabelo Renata\" )\n",
    "axs[1].set_title( \"Cabelo Miguel\")"
   ]
  }
 ],
 "metadata": {
  "kernelspec": {
   "display_name": "Python 3 (ipykernel)",
   "language": "python",
   "name": "python3"
  },
  "language_info": {
   "codemirror_mode": {
    "name": "ipython",
    "version": 3
   },
   "file_extension": ".py",
   "mimetype": "text/x-python",
   "name": "python",
   "nbconvert_exporter": "python",
   "pygments_lexer": "ipython3",
   "version": "3.8.12"
  }
 },
 "nbformat": 4,
 "nbformat_minor": 5
}
