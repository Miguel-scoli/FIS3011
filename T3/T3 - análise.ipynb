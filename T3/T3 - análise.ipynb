{
 "cells": [
  {
   "cell_type": "code",
   "execution_count": 3,
   "id": "1855ea13",
   "metadata": {},
   "outputs": [],
   "source": [
    "import numpy as np\n",
    "import matplotlib.pyplot as plt\n",
    "import scipy.stats as sps\n",
    "import scipy.optimize as spo\n",
    "import sympy as sp\n",
    "np.set_printoptions(suppress=True, linewidth= 500)\n",
    "from mpl_toolkits.axes_grid1.inset_locator import inset_axes"
   ]
  },
  {
   "cell_type": "code",
   "execution_count": 4,
   "id": "3f639237",
   "metadata": {},
   "outputs": [],
   "source": [
    "def makeplot(data, dt_label, color_mk, *errors, bars=False,):\n",
    "    data_x, data_y = data[0], data[1]\n",
    "    fig , ax = plt.subplots( figsize = figsize, dpi = dpi  ) \n",
    "    ax.legend( fontsize = fontsize)\n",
    "    ax.set_xlabel( xlabel , fontsize = fontsize )\n",
    "    ax.set_ylabel( ylabel , fontsize = fontsize )\n",
    "    if ticks:\n",
    "        ax.set_xticks( xticks )\n",
    "        ax.set_yticks( yticks )\n",
    "        ax.set_xlim( xticks[0] , xticks[-1])\n",
    "        ax.set_ylim( yticks[0] , yticks[-1])\n",
    "    plt.grid( alpha = alpha_grid )\n",
    "    plot_data = ax.plot( data_x , data_y , marker_type ,\n",
    "                    label      = dt_label , \n",
    "                    markersize = markersize )\n",
    "    plot_data[0].set_color(color_mk )\n",
    "    if bars:\n",
    "        errorbar = plt.errorbar( data_x , data_y ,\n",
    "                                yerr       = errors[0][1] ,\n",
    "                                xerr       = errors[0][0] , \n",
    "                                color      = color_bars ,\n",
    "                                ls         ='' , \n",
    "                                alpha      = alpha_bars ,\n",
    "                                elinewidth = thickness,\n",
    "                                capsize    = head_size , \n",
    "                                capthick   = 0.2 )\n",
    "    plt.legend( fontsize = fontsize )\n",
    "    plt.tight_layout()\n",
    "    return fig, ax\n",
    "\n",
    "def add_points(data, dt_label, color_mk, figure,*errors, bars= False):\n",
    "    data_x, data_y = data[0], data[1]\n",
    "    fig, ax = figure[0], figure[1]\n",
    "    plot_data = ax.plot( data_x , data_y , marker_type ,\n",
    "                    label      = dt_label , \n",
    "                    markersize = markersize )\n",
    "    plot_data[0].set_color(color_mk )\n",
    "    if bars:\n",
    "        errorbar = plt.errorbar( data_x , data_y ,\n",
    "                                yerr       = errors[0][1] ,\n",
    "                                xerr       = errors[0][0] , \n",
    "                                color      = color_bars ,\n",
    "                                ls         ='' , \n",
    "                                alpha      = alpha_bars ,\n",
    "                                elinewidth = thickness,\n",
    "                                capsize    = head_size , \n",
    "                                capthick   = 0.2 )\n",
    "    ax.legend( fontsize = fontsize )\n",
    "\n",
    "def add_fit( ax , x , coef , f_fit , label=\"Fit\",linestyle = \"k--\"):\n",
    "    y_fit     = f_fit( x ,*coef )\n",
    "    linewidth = 1\n",
    "    alpha     = 0.5 \n",
    "    if label != False:\n",
    "        ax.plot( x , y_fit , linestyle , label = label, linewidth = linewidth , alpha = alpha  )\n",
    "        ax.legend(  fontsize = fontsize )\n",
    "    else:\n",
    "         ax.plot( x , y_fit , linestyle , linewidth = linewidth , alpha = alpha )\n",
    "    \n",
    "    return ax , y_fit\n",
    "\n",
    "def add_residues( x , y_fit , y , color, in_fig , *args ):\n",
    "    if not in_fig: \n",
    "        fig , ax = plt.subplots( figsize = (figsize))\n",
    "        ax.set_xlabel( xlabel )\n",
    "        ax.set_ylabel( \"Resíduos\" )\n",
    "        ax.legend( fontsize = 15)\n",
    "    \n",
    "    else : \n",
    "        fig = args[ 0 ]\n",
    "        ax = args[ 1 ]\n",
    "        loc= args[2]\n",
    "        ax = inset_axes(ax, width=\"30%\", height=\"30%\", loc=loc)\n",
    "    \n",
    "    res       = y - y_fit\n",
    "    \n",
    "    global max_res\n",
    "    global min_res\n",
    "    max_res, min_res = max(max_res, np.max(res)), min(min_res,np.min(res))\n",
    "    ax.scatter( x , res ,color = color, marker='.' )\n",
    "    if ticks:\n",
    "        ax.set_xticks( xticks )\n",
    "        ax.set_yticks( yticks )\n",
    "        ax.set_xlim( ( xticks[0] , xticks[-1]) )\n",
    "        ax.set_ylim( ( yticks[0] , yticks[-1]) )\n",
    "    ax.grid(True)\n",
    "    ax.set_title(\"Resíduos\")\n",
    "    if in_fig:\n",
    "        return ax     \n",
    "    return fig , ax  \n",
    "\n",
    "colors=['blue', 'orange', 'green', 'magenta', 'purple']\n",
    "max_res, min_res = 0, 0\n",
    "# para guardar a imagem \n",
    "#fig.savefig( fig_name + \".png\" )"
   ]
  },
  {
   "cell_type": "code",
   "execution_count": 60,
   "id": "4b63c800",
   "metadata": {},
   "outputs": [],
   "source": [
    "# --- Formatação da figura ---\n",
    "cm          = 1/2.54  # centimeters in inches\n",
    "figsize     = ( 12*cm, 10*cm )\n",
    "dpi         = 100\n",
    "\n",
    "# --- Texto que apareça no gráfico ---\n",
    "fontsize        = 8\n",
    "legend_label    = \"Pontos Experimentais\"\n",
    "xlabel          = \"\"\n",
    "ylabel          = \"$\\|\\epsilon| $(mV)\"\n",
    "\n",
    "# --- Formação dos pontos ---\n",
    "marker_type = \".\"\n",
    "markersize  = 2.5\n",
    "color_mk    = \"lime\"\n",
    "\n",
    "\n",
    "# --- formatação da escala do gráfico ---\n",
    "xticks      = np.linspace( - 1 , 1 , 10 )\n",
    "yticks      = np.linspace( -20 , 20 , 9)\n",
    "\n",
    "# --- Transparência da grid ---\n",
    "alpha_grid = 0.5 \n",
    "\n",
    "# --- Formatação barras de erro --- \n",
    "color_bars    = \"k\"\n",
    "alpha_bars    = 0.5\n",
    "thickness     = 1 \n",
    "head_size     = 1 \n",
    "head_thick    = 0.2 \n",
    "\n",
    "# --- Informação para guardar a imagem ---\n",
    "fig_name = \"fig1\" #sem o png!\n",
    "\n",
    "\n",
    "# --- data para dar plot ---\n",
    "#data_x = ...\n",
    "#data_y = ...\n",
    "#u x    = ...\n",
    "#u_y    = ..."
   ]
  },
  {
   "cell_type": "markdown",
   "id": "6c02d5fc",
   "metadata": {},
   "source": [
    "# 1ª Parte "
   ]
  },
  {
   "cell_type": "code",
   "execution_count": 70,
   "id": "0791ad4f",
   "metadata": {},
   "outputs": [],
   "source": [
    "data_10 = np.genfromtxt( \"CSV\\parte_1.0.csv\" , delimiter = \",\" , skip_header = True )\n",
    "data_11 = np.genfromtxt( \"CSV\\parte_1.1.csv\" , delimiter = \",\", skip_header = True )\n",
    "data_11 = data_11[ : , :4]\n",
    "data_10 = data_10[ : , :5]\n",
    "\n",
    "# usamos os valores retirados do protocolo porque nos esquecemos de usar o palmer para medir a espessura do fio! \n",
    "h       = 5.5e-3 # m \n",
    "lambda0 = 632.8e-9 # m \n",
    "nar_t   = 1.00029 # não vale a pena procurar os valores correspondentes à temperatura e pressão da sala.\n",
    "                  # não vamos ter precisão suficiente para notar diferenças a esse nível \n",
    "    \n",
    "# uma vez que o genfromtxt não reconhece strings, vamos usar a codificação: \n",
    "    # M -> 0\n",
    "    # R -> 1 \n",
    "    # cw -> 0 \n",
    "    # ccw -> 1 \n",
    "p_dic = { 0:\"Miguel\" , 1:\"Renata\" }\n",
    "d_dic = { 1:\"CCW\" , 0:\"CW\" }\n"
   ]
  },
  {
   "cell_type": "code",
   "execution_count": 101,
   "id": "d9ec6e50",
   "metadata": {},
   "outputs": [
    {
     "name": "stdout",
     "output_type": "stream",
     "text": [
      "[25.68271941 25.19455546 22.20989138 18.63389981 23.61111111 26.92582404 14.16666667 14.67724762 18.63389981 14.16666667 24.41406525 18.98479407 15.617991   20.03801834 36.26558622 16.22508029 18.35618085 15.40602736 15.28513839 26.92582404]\n"
     ]
    },
    {
     "data": {
      "image/png": "[encoded data removed]",
      "text/plain": [
       "<Figure size 432x288 with 1 Axes>"
      ]
     },
     "metadata": {
      "needs_background": "light"
     },
     "output_type": "display_data"
    }
   ],
   "source": [
    "# análise parte 1.0\n",
    "\n",
    "udeltad = 0.01e-4 \n",
    "uN      = 5\n",
    "N       = data_10[:,2]\n",
    "\n",
    "\n",
    "deltad = np.abs(data_10[:,4]-data_10[:,3]) * 1e-4\n",
    "\n",
    "\n",
    "n      = data_10[ :,2 ] * lambda0 / deltad * 0.5 \n",
    "un     = n * np.sqrt( ( uN / N ) ** 2 + ( udeltad / deltad )** 2 )\n",
    "\n",
    "\n",
    "indM, = np.where( data_10[:,0] == 0 )\n",
    "indR, = np.where( data_10[:,0] == 1 )\n",
    "indCCW, = np.where( data_10[:,1] == 1 )\n",
    "indCW,  = np.where( data_10[:,1] == 0 )\n",
    "\n",
    "\n",
    "for i in range( len(N)):\n",
    "    s = \".\"\n",
    "    if i in indCCW:\n",
    "        s = \"+\"\n",
    "    \n",
    "    if i in indM:\n",
    "        plt.plot( i , n[i] , \"r\"+s )\n",
    "    \n",
    "    if i in indR:\n",
    "        plt.plot( i, n[i] , \"b\"+s)\n",
    "\n",
    "        \n",
    "mean_val = np.mean( n[2:])\n",
    "std_val  = np.std( n[2:])\n",
    "plt.hlines( mean_val , 0 , 20 , linewidth = 1)\n",
    "plt.hlines( mean_val - std_val, 0 , 20  , linewidth = 1)\n",
    "plt.hlines( mean_val + std_val, 0 , 20  , linewidth = 1)    \n",
    "\n",
    "plt.hlines( mean_val - std_val*1.5, 0 , 20  , linewidth = 1, linestyle = \"--\")\n",
    "plt.hlines( mean_val + std_val*1.5, 0 , 20  , linewidth = 1, linestyle = \"--\")        \n",
    "\n",
    "print( un / n * 100  )\n",
    "\n",
    "\n",
    "# os últimos dois ensaios foram feitos com uma mão diferente mas não vemos diferença, por isso podemos cagar nisso "
   ]
  },
  {
   "cell_type": "code",
   "execution_count": 108,
   "id": "3c8d7fa8",
   "metadata": {},
   "outputs": [
    {
     "data": {
      "image/png": "[encoded data removed]",
      "text/plain": [
       "<Figure size 432x288 with 1 Axes>"
      ]
     },
     "metadata": {
      "needs_background": "light"
     },
     "output_type": "display_data"
    },
    {
     "data": {
      "text/plain": [
       "<matplotlib.collections.LineCollection at 0x20d1783d190>"
      ]
     },
     "execution_count": 108,
     "metadata": {},
     "output_type": "execute_result"
    },
    {
     "data": {
      "image/png": "[encoded data removed]",
      "text/plain": [
       "<Figure size 432x288 with 1 Axes>"
      ]
     },
     "metadata": {
      "needs_background": "light"
     },
     "output_type": "display_data"
    }
   ],
   "source": [
    "# análise  parte 1.1\n",
    "\n",
    "theta = np.abs(data_11[ : , 3 ]-data_11[:,2])\n",
    "theta_rad = theta * np.pi / 180 \n",
    "\n",
    "\n",
    "N     = data_11[ : , 1 ]\n",
    "\n",
    "nv    = h * nar_t ** 2 * np.sin( theta_rad )**2 / ( h * nar_t * np.sin( theta_rad ) **2 - N * lambda0 )\n",
    "\n",
    "indM,  = np.where( data_11[:,0] == 0 )\n",
    "indR,  = np.where( data_11[:,0] == 1 )\n",
    "\n",
    "\n",
    "plt.plot( nv[indR] , \"b.\")\n",
    "plt.plot( nv[indM] , \"r.\")\n",
    "\n",
    "mean_val = np.mean( nv)\n",
    "std_val  = np.std( nv)\n",
    "plt.hlines( mean_val , 0 , 5 , linewidth = 1)\n",
    "plt.hlines( mean_val - std_val, 0 , 5  , linewidth = 1)\n",
    "plt.hlines( mean_val + std_val, 0 , 5 , linewidth = 1)    \n",
    "\n",
    "plt.hlines( mean_val - std_val*1.5, 0 , 5  , linewidth = 1, linestyle = \"--\")\n",
    "plt.hlines( mean_val + std_val*1.5, 0 , 5  , linewidth = 1, linestyle = \"--\")\n",
    "\n",
    "plt.show()\n",
    "\n",
    "plt.plot( nv[indR] , \"b.\")\n",
    "plt.plot( nv[indM] , \"r.\")\n",
    "\n",
    "ind,= np.where( np.abs(nv - mean_val)< 1.5 *std_val  )\n",
    "nv  = nv[ind]\n",
    "mean_val = np.mean( nv)\n",
    "std_val  = np.std( nv)\n",
    "plt.hlines( mean_val , 0 , 5 , linewidth = 1)\n",
    "plt.hlines( mean_val - std_val, 0 , 5  , linewidth = 1)\n",
    "plt.hlines( mean_val + std_val, 0 , 5 , linewidth = 1)    \n",
    "\n",
    "plt.hlines( mean_val - std_val*1.5, 0 , 5  , linewidth = 1, linestyle = \"--\")\n",
    "plt.hlines( mean_val + std_val*1.5, 0 , 5  , linewidth = 1, linestyle = \"--\")"
   ]
  },
  {
   "cell_type": "markdown",
   "id": "9aecf346",
   "metadata": {},
   "source": [
    "# 2ª Parte \n",
    "\n"
   ]
  },
  {
   "cell_type": "code",
   "execution_count": 102,
   "id": "caeeccc0",
   "metadata": {},
   "outputs": [],
   "source": [
    "data_20 = np.genfromtxt( \"CSV\\parte_2.0.csv\" , delimiter = \",\" , skip_header = True )\n",
    "data_21 = np.genfromtxt( \"CSV\\parte_2.1.csv\" , delimiter = \",\", skip_header = True )\n",
    "data_22 = np.genfromtxt( \"CSV\\parte_2.2.csv\" , delimiter = \",\", skip_header = True )"
   ]
  },
  {
   "cell_type": "code",
   "execution_count": null,
   "id": "19bf1855",
   "metadata": {},
   "outputs": [],
   "source": []
  }
 ],
 "metadata": {
  "kernelspec": {
   "display_name": "Python 3 (ipykernel)",
   "language": "python",
   "name": "python3"
  },
  "language_info": {
   "codemirror_mode": {
    "name": "ipython",
    "version": 3
   },
   "file_extension": ".py",
   "mimetype": "text/x-python",
   "name": "python",
   "nbconvert_exporter": "python",
   "pygments_lexer": "ipython3",
   "version": "3.8.12"
  }
 },
 "nbformat": 4,
 "nbformat_minor": 5
}
