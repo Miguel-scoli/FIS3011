{
 "cells": [
  {
   "cell_type": "markdown",
   "id": "496f0896",
   "metadata": {},
   "source": [
    "# Análise Trabalho T1"
   ]
  },
  {
   "cell_type": "code",
   "execution_count": 1,
   "id": "ea5023f9",
   "metadata": {},
   "outputs": [],
   "source": [
    "import numpy as np\n",
    "import matplotlib.pyplot as plt\n",
    "import scipy.stats as sps\n",
    "import scipy.optimize as spo\n",
    "import sympy as sp\n",
    "np.set_printoptions(suppress=True, linewidth= 500)\n",
    "from mpl_toolkits.axes_grid1.inset_locator import inset_axes"
   ]
  },
  {
   "cell_type": "markdown",
   "id": "819a4f99",
   "metadata": {
    "tags": []
   },
   "source": [
    "### Funções"
   ]
  },
  {
   "cell_type": "code",
   "execution_count": 3,
   "id": "eb36cc48",
   "metadata": {},
   "outputs": [],
   "source": [
    "def makeplot(data, dt_label, color_mk, *errors, bars=False,):\n",
    "    data_x, data_y = data[0], data[1]\n",
    "    fig , ax = plt.subplots( figsize = figsize, dpi = dpi  ) \n",
    "    ax.legend( fontsize = fontsize)\n",
    "    ax.set_xlabel( xlabel , fontsize = fontsize )\n",
    "    ax.set_ylabel( ylabel , fontsize = fontsize )\n",
    "    if ticks:\n",
    "        ax.set_xticks( xticks )\n",
    "        ax.set_yticks( yticks )\n",
    "        ax.set_xlim( xticks[0] , xticks[-1])\n",
    "        ax.set_ylim( yticks[0] , yticks[-1])\n",
    "    plt.grid( alpha = alpha_grid )\n",
    "    plot_data = ax.plot( data_x , data_y , marker_type ,\n",
    "                    label      = dt_label , \n",
    "                    markersize = markersize )\n",
    "    plot_data[0].set_color(color_mk )\n",
    "    if bars:\n",
    "        errorbar = plt.errorbar( data_x , data_y ,\n",
    "                                yerr       = errors[0][1] ,\n",
    "                                xerr       = errors[0][0] , \n",
    "                                color      = color_bars ,\n",
    "                                ls         ='' , \n",
    "                                alpha      = alpha_bars ,\n",
    "                                elinewidth = thickness,\n",
    "                                capsize    = head_size , \n",
    "                                capthick   = 0.2 )\n",
    "    plt.legend( fontsize = fontsize )\n",
    "    plt.tight_layout()\n",
    "    return fig, ax\n",
    "\n",
    "def add_points(data, dt_label, color_mk, figure,*errors, bars= False):\n",
    "    data_x, data_y = data[0], data[1]\n",
    "    fig, ax = figure[0], figure[1]\n",
    "    plot_data = ax.plot( data_x , data_y , marker_type ,\n",
    "                    label      = dt_label , \n",
    "                    markersize = markersize )\n",
    "    plot_data[0].set_color(color_mk )\n",
    "    if bars:\n",
    "        errorbar = plt.errorbar( data_x , data_y ,\n",
    "                                yerr       = errors[0][1] ,\n",
    "                                xerr       = errors[0][0] , \n",
    "                                color      = color_bars ,\n",
    "                                ls         ='' , \n",
    "                                alpha      = alpha_bars ,\n",
    "                                elinewidth = thickness,\n",
    "                                capsize    = head_size , \n",
    "                                capthick   = 0.2 )\n",
    "    ax.legend( fontsize = fontsize )\n",
    "\n",
    "def add_fit( ax , x , coef , f_fit , label=\"Fit\",linestyle = \"k--\"):\n",
    "    y_fit     = f_fit( x ,*coef )\n",
    "    linewidth = 1\n",
    "    alpha     = 0.5 \n",
    "    if label != False:\n",
    "        ax.plot( x , y_fit , linestyle , label = label, linewidth = linewidth , alpha = alpha  )\n",
    "        ax.legend(  fontsize = fontsize )\n",
    "    else:\n",
    "         ax.plot( x , y_fit , linestyle , linewidth = linewidth , alpha = alpha )\n",
    "    \n",
    "    return ax , y_fit\n",
    "\n",
    "def add_residues( x , y_fit , y , color, in_fig , *args ):\n",
    "    if not in_fig: \n",
    "        fig , ax = plt.subplots( figsize = (figsize))\n",
    "        ax.set_xlabel( xlabel )\n",
    "        ax.set_ylabel( \"Resíduos\" )\n",
    "        ax.legend( fontsize = 15)\n",
    "    \n",
    "    else : \n",
    "        fig = args[ 0 ]\n",
    "        ax = args[ 1 ]\n",
    "        loc= args[2]\n",
    "        ax = inset_axes(ax, width=\"30%\", height=\"30%\", loc=loc)\n",
    "    \n",
    "    res       = y - y_fit\n",
    "    \n",
    "    global max_res\n",
    "    global min_res\n",
    "    max_res, min_res = max(max_res, np.max(res)), min(min_res,np.min(res))\n",
    "    ax.scatter( x , res ,color = color, marker='.' )\n",
    "    if ticks:\n",
    "        ax.set_xticks( xticks )\n",
    "        ax.set_yticks( yticks )\n",
    "        ax.set_xlim( ( xticks[0] , xticks[-1]) )\n",
    "        ax.set_ylim( ( yticks[0] , yticks[-1]) )\n",
    "    ax.grid(True)\n",
    "    ax.set_title(\"Resíduos\")\n",
    "    if in_fig:\n",
    "        return ax     \n",
    "    return fig , ax  \n",
    "\n",
    "colors=['blue', 'orange', 'green', 'magenta', 'purple']\n",
    "max_res, min_res = 0, 0\n",
    "# para guardar a imagem \n",
    "#fig.savefig( fig_name + \".png\" )"
   ]
  },
  {
   "cell_type": "markdown",
   "id": "4c584084",
   "metadata": {
    "jp-MarkdownHeadingCollapsed": true,
    "tags": []
   },
   "source": [
    "### Formatação de gráfico \n",
    "\n",
    "Fica aqui o código genérico para fazer um gráfico maravilhoso "
   ]
  },
  {
   "cell_type": "markdown",
   "id": "c38b85ec",
   "metadata": {
    "tags": []
   },
   "source": [
    "##### Código para mudar "
   ]
  },
  {
   "cell_type": "code",
   "execution_count": 2,
   "id": "54ccd4d5",
   "metadata": {},
   "outputs": [],
   "source": [
    "# --- Formatação da figura ---\n",
    "cm          = 1/2.54  # centimeters in inches\n",
    "figsize     = ( 12*cm, 10*cm )\n",
    "dpi         = 100\n",
    "\n",
    "# --- Texto que apareça no gráfico ---\n",
    "fontsize        = 8\n",
    "legend_label    = \"Pontos Experimentais\"\n",
    "xlabel          = \"\"\n",
    "ylabel          = \"$\\|\\epsilon| $(mV)\"\n",
    "\n",
    "# --- Formação dos pontos ---\n",
    "marker_type = \".\"\n",
    "markersize  = 2.5\n",
    "color_mk    = \"lime\"\n",
    "\n",
    "\n",
    "# --- formatação da escala do gráfico ---\n",
    "xticks      = np.linspace( - 1 , 1 , 10 )\n",
    "yticks      = np.linspace( -20 , 20 , 9)\n",
    "\n",
    "# --- Transparência da grid ---\n",
    "alpha_grid = 0.5 \n",
    "\n",
    "# --- Formatação barras de erro --- \n",
    "color_bars    = \"k\"\n",
    "alpha_bars    = 0.5\n",
    "thickness     = 1 \n",
    "head_size     = 1 \n",
    "head_thick    = 0.2 \n",
    "\n",
    "# --- Informação para guardar a imagem ---\n",
    "fig_name = \"fig1\" #sem o png!\n",
    "\n",
    "\n",
    "# --- data para dar plot ---\n",
    "#data_x = ...\n",
    "#data_y = ...\n",
    "#u x    = ...\n",
    "#u_y    = ..."
   ]
  },
  {
   "cell_type": "markdown",
   "id": "591a7164",
   "metadata": {},
   "source": [
    "## Import da data\n",
    "\n",
    "Nota -- os dados estão divididos em colunas principais para as series de medidas.\n",
    "* Primeira coluna é para os dados do primeiro aquecimento\n",
    "* a segunda é para o primeiro arrefecimento\n",
    "* a terceira para o segundo aquecimento \n",
    "* a quarta é para o segundo arrefecimento \n",
    "* a quinta é para os dados das primeiras medições, onde nos enganamos. Não medimos a corrente do diodo, apenas temos medidas da resistência, mas como são à temperatura ambiente, continuam a ser bons valores. \n",
    "* ainda temos duas colunas onde temos apenas dois valores onde temos as incertezas das medidas da resistência e da temperatura ( ambos os valores são 0.1 nas suas dimensões ) . \n",
    "* as colunas são compostas por outras colunas, Temperatura, Resistência, Corrente e incerteza da corrente. "
   ]
  },
  {
   "cell_type": "code",
   "execution_count": 2,
   "id": "bea0ea6d",
   "metadata": {},
   "outputs": [],
   "source": [
    "data = np.genfromtxt(\"T1_CSV.csv\", delimiter = \",\", skip_header=1)"
   ]
  },
  {
   "cell_type": "code",
   "execution_count": 5,
   "id": "505e4dce",
   "metadata": {},
   "outputs": [],
   "source": [
    "# dividir a data : \n",
    "# primeiro aquecimento\n",
    "T1 , R1 , I1 , uI1 = data[ : , 0 ] , data[ : , 1 ] , data[ : , 2 ] , data[ : , 3 ]\n",
    "\n",
    "# primeiro arrefecimento \n",
    "T2 , R2 , I2 , uI2 = data[ : , 4 ] , data[ : , 5 ] , data[ : , 6 ] , data[ : , 7 ]\n",
    "\n",
    "# segundo aquecimento\n",
    "T3 , R3 , I3 , uI3 = data[ : , 8 ] , data[ : , 9 ] , data[ : , 10 ] , data[ : , 11 ]\n",
    "\n",
    "# segundo arrefecimento \n",
    "T4 , R4 , I4 , uI4 = data[ : , 12 ] , data[ : , 13 ] , data[ : , 14 ] , data[ : , 15 ]\n",
    "\n",
    "# primeira serie de medidas, ignorar I e uI\n",
    "T5 , R5 , I5 , uI5 = data[ : , 16 ] , data[ : , 17 ] , data[ : , 18 ] , data[ : , 19 ]\n",
    "\n",
    "# incertezas que foram constantes, são floats, temos de dar reshape em cada data set\n",
    "# usar -> uRx = np.ones( len( Tx ) ) * uR por exemplo\n",
    "uR , uT = data[ 0 , 20 ] , data[ 0 , 21 ]"
   ]
  },
  {
   "cell_type": "markdown",
   "id": "700071c7",
   "metadata": {},
   "source": [
    "É só preciso fazer ajustes lineares, por isso usar ``sps.linregress``"
   ]
  },
  {
   "cell_type": "code",
   "execution_count": null,
   "id": "61fb9672",
   "metadata": {},
   "outputs": [],
   "source": []
  }
 ],
 "metadata": {
  "kernelspec": {
   "display_name": "Python 3 (ipykernel)",
   "language": "python",
   "name": "python3"
  },
  "language_info": {
   "codemirror_mode": {
    "name": "ipython",
    "version": 3
   },
   "file_extension": ".py",
   "mimetype": "text/x-python",
   "name": "python",
   "nbconvert_exporter": "python",
   "pygments_lexer": "ipython3",
   "version": "3.8.12"
  }
 },
 "nbformat": 4,
 "nbformat_minor": 5
}
