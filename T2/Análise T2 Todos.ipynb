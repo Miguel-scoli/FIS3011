{
 "cells": [
  {
   "cell_type": "markdown",
   "id": "496f0896",
   "metadata": {
    "id": "496f0896"
   },
   "source": [
    "# Análise Trabalho T2"
   ]
  },
  {
   "cell_type": "code",
   "execution_count": 2,
   "id": "ea5023f9",
   "metadata": {
    "execution": {
     "iopub.execute_input": "2021-11-17T15:34:53.706679Z",
     "iopub.status.busy": "2021-11-17T15:34:53.706431Z",
     "iopub.status.idle": "2021-11-17T15:34:54.299205Z",
     "shell.execute_reply": "2021-11-17T15:34:54.298692Z",
     "shell.execute_reply.started": "2021-11-17T15:34:53.706644Z"
    },
    "executionInfo": {
     "elapsed": 1209,
     "status": "ok",
     "timestamp": 1636546309869,
     "user": {
      "displayName": "Renata Lei",
      "photoUrl": "https://lh3.googleusercontent.com/a-/AOh14GiZRrOOTON7as61T6R7lasoqysRGWFsO7e-SZ_A9w=s64",
      "userId": "14664481936329026391"
     },
     "user_tz": 0
    },
    "id": "ea5023f9",
    "tags": []
   },
   "outputs": [
    {
     "name": "stderr",
     "output_type": "stream",
     "text": [
      "/tmp/ipykernel_13067/2509053547.py:6: MatplotlibDeprecationWarning: \n",
      "The mpl_toolkits.axes_grid module was deprecated in Matplotlib 2.1 and will be removed two minor releases later. Use mpl_toolkits.axes_grid1 and mpl_toolkits.axisartist, which provide the same functionality instead.\n",
      "  from mpl_toolkits.axes_grid.inset_locator import inset_axes\n"
     ]
    }
   ],
   "source": [
    "import numpy as np\n",
    "import matplotlib.pyplot as plt\n",
    "import scipy.stats as sps\n",
    "import scipy.optimize as spo\n",
    "np.set_printoptions(suppress=True, linewidth= 500)\n",
    "from mpl_toolkits.axes_grid.inset_locator import inset_axes"
   ]
  },
  {
   "cell_type": "markdown",
   "id": "5cd1607d",
   "metadata": {
    "id": "5cd1607d",
    "tags": []
   },
   "source": [
    "### Formatação de gráfico \n",
    "\n",
    "Fica aqui o código genérico para fazer um gráfico maravilhoso "
   ]
  },
  {
   "cell_type": "markdown",
   "id": "c38b85ec",
   "metadata": {
    "id": "c38b85ec",
    "tags": []
   },
   "source": [
    "##### Código para mudar "
   ]
  },
  {
   "cell_type": "code",
   "execution_count": 3,
   "id": "54ccd4d5",
   "metadata": {
    "execution": {
     "iopub.execute_input": "2021-11-17T15:34:54.300711Z",
     "iopub.status.busy": "2021-11-17T15:34:54.300466Z",
     "iopub.status.idle": "2021-11-17T15:34:54.305116Z",
     "shell.execute_reply": "2021-11-17T15:34:54.304528Z",
     "shell.execute_reply.started": "2021-11-17T15:34:54.300676Z"
    },
    "id": "54ccd4d5",
    "tags": []
   },
   "outputs": [],
   "source": [
    "# --- Formatação da figura ---\n",
    "cm          = 1/2.54  # centimeters in inches\n",
    "figsize     = ( 16*cm, 10*cm )\n",
    "dpi         = 100\n",
    "fontsize        = 10\n",
    "# --- Formação dos pontos ---\n",
    "marker_type = \"o\"\n",
    "markersize  = 2.5\n",
    "# --- Transparência da grid ---\n",
    "alpha_grid = 0.5 \n",
    "# --- Formatação barras de erro --- \n",
    "color_bars    = \"k\"\n",
    "alpha_bars    = 0.5\n",
    "thickness     = 1 \n",
    "head_size     = 1 \n",
    "head_thick    = 0.2"
   ]
  },
  {
   "cell_type": "markdown",
   "id": "91e91116-32be-424e-9a4e-5b47c5dc3de6",
   "metadata": {
    "id": "91e91116-32be-424e-9a4e-5b47c5dc3de6",
    "tags": []
   },
   "source": [
    "### Funções"
   ]
  },
  {
   "cell_type": "code",
   "execution_count": 4,
   "id": "eb36cc48",
   "metadata": {
    "execution": {
     "iopub.execute_input": "2021-11-17T15:34:54.634778Z",
     "iopub.status.busy": "2021-11-17T15:34:54.634494Z",
     "iopub.status.idle": "2021-11-17T15:34:54.649948Z",
     "shell.execute_reply": "2021-11-17T15:34:54.649421Z",
     "shell.execute_reply.started": "2021-11-17T15:34:54.634744Z"
    },
    "id": "eb36cc48",
    "tags": []
   },
   "outputs": [],
   "source": [
    "def makeplot(data, dt_label, color_mk, *errors, bars=False,):\n",
    "    data_x, data_y = data[0], data[1]\n",
    "    fig , ax = plt.subplots( figsize = figsize, dpi = dpi  ) \n",
    "    ax.legend( fontsize = fontsize)\n",
    "    ax.set_xlabel( xlabel , fontsize = fontsize )\n",
    "    ax.set_ylabel( ylabel , fontsize = fontsize )\n",
    "    plt.grid( alpha = alpha_grid )\n",
    "    plot_data = ax.plot( data_x , data_y , marker_type ,\n",
    "                    label      = dt_label , \n",
    "                    markersize = markersize )\n",
    "    plot_data[0].set_color(color_mk )\n",
    "    if bars:\n",
    "        errorbar = plt.errorbar( data_x , data_y ,\n",
    "                                yerr       = errors[0][1] ,\n",
    "                                xerr       = errors[0][0] , \n",
    "                                ls         ='', color = color_bars, alpha = alpha_bars ,\n",
    "                                elinewidth = thickness, capsize = head_size,capthick   = 0.2 )\n",
    "    plt.legend( fontsize = fontsize )\n",
    "    plt.tight_layout()\n",
    "    return fig, ax\n",
    "\n",
    "def add_points(data, dt_label, color_mk, figure,*errors, bars= False):\n",
    "    data_x, data_y = data[0], data[1]\n",
    "    fig, ax = figure[0], figure[1]\n",
    "    plot_data = ax.plot( data_x , data_y , marker_type ,\n",
    "                    label      = dt_label , \n",
    "                    markersize = markersize )\n",
    "    plot_data[0].set_color(color_mk )\n",
    "    if bars:\n",
    "        errorbar = plt.errorbar( data_x , data_y ,\n",
    "                                yerr       = errors[0][1] ,\n",
    "                                xerr       = errors[0][0] , \n",
    "                                ls         ='', color = color_bars, alpha = alpha_bars ,\n",
    "                                elinewidth = thickness, capsize = head_size,capthick   = 0.2 )\n",
    "    ax.legend( fontsize = fontsize )\n",
    "\n",
    "def get_coef( x , y , f_fit , coef0 ):\n",
    "    result = spo.curve_fit( f_fit , x , y , p0 = coef0 )\n",
    "    return result[ 0 ]\n",
    "\n",
    "def add_fit( ax , x , coef , f_fit , label=\"Fit\",linestyle = \"k--\"):\n",
    "    y_fit     = f_fit( x ,*coef )\n",
    "    linewidth = 1\n",
    "    alpha     = 0.5 \n",
    "    if label != False:\n",
    "        ax.plot( x , y_fit , linestyle , label = label, linewidth = linewidth , alpha = alpha  )\n",
    "        ax.legend(  fontsize = fontsize )\n",
    "    else:\n",
    "         ax.plot( x , y_fit , linestyle , linewidth = linewidth , alpha = alpha )\n",
    "    \n",
    "    return ax , y_fit\n",
    "\n",
    "def add_residues( x , y_fit , y , color, in_fig , *args ):\n",
    "    if not in_fig: \n",
    "        fig , ax = plt.subplots( figsize = (figsize))\n",
    "        ax.set_xlabel( xlabel )\n",
    "        ax.set_ylabel( \"Resíduos\" )\n",
    "        ax.legend( fontsize = 15)\n",
    "    \n",
    "    else : \n",
    "        fig = args[ 0 ]\n",
    "        ax = args[ 1 ]\n",
    "        #loc= args[2]\n",
    "        ax = inset_axes(ax, width=\"30%\", height=\"30%\")\n",
    "    \n",
    "    res       = y - y_fit\n",
    "    \n",
    "    global max_res\n",
    "    global min_res\n",
    "    max_res, min_res = max(max_res, np.max(res)), min(min_res,np.min(res))\n",
    "    ax.scatter( x , res ,color = color, marker='.' )\n",
    "    ax.grid(True)\n",
    "    ax.set_title(\"Resíduos\")\n",
    "    if in_fig:\n",
    "        return ax     \n",
    "    return fig , ax  \n",
    "\n",
    "colors=['blue', 'green', 'magenta', 'black', 'cyan', 'yellow', 'red']\n",
    "linestyles = ['b--', 'g--', 'm--', 'k--', 'c--', 'y--', 'r--']\n",
    "max_res, min_res = 0, 0\n",
    "\n",
    "# para guardar a imagem \n",
    "#fig.savefig( fig_name + \".png\" )"
   ]
  },
  {
   "cell_type": "code",
   "execution_count": 5,
   "id": "e8fc9786-9c10-45cc-8c63-7463f6eb059a",
   "metadata": {
    "execution": {
     "iopub.execute_input": "2021-11-17T15:34:55.005226Z",
     "iopub.status.busy": "2021-11-17T15:34:55.004979Z",
     "iopub.status.idle": "2021-11-17T15:34:55.010113Z",
     "shell.execute_reply": "2021-11-17T15:34:55.009465Z",
     "shell.execute_reply.started": "2021-11-17T15:34:55.005204Z"
    },
    "tags": []
   },
   "outputs": [],
   "source": [
    "freqs = np.transpose(np.genfromtxt(\"CSVs_T2/freqs.csv\", delimiter = \",\", skip_header=1))\n",
    "H = 6.62607015e-34\n",
    "W = 1.51 #ev\n",
    "e = 1.602e-19"
   ]
  },
  {
   "cell_type": "markdown",
   "id": "2d1f16b4",
   "metadata": {
    "id": "2d1f16b4",
    "tags": []
   },
   "source": [
    "## Parte A\n",
    "\n",
    "<div style=\"border:1px solid black;\">\n",
    "<span style=\"color:red; font-weight:bold;\">Nota:</span> Vou optar por escolher o 1º ensaio na escala de 10nA para o LED 1 pelas razões da proximidade à célula fotoelétrica. Vou também desconsiderar as medições na escala 3nA para o LED 2 porque não são assim muito lineares e no laboratório vimos muita variação nas leituras do eletrómetro. Na conjugação final dos resultados vou eliminar o LED 6 e o 7 pelas razões da sensibilidade da célula e também pq não é possível colocá-los na mesma posição dos outros pq o suporte dos LEDs bate no suporte da célula."
   ]
  },
  {
   "cell_type": "code",
   "execution_count": 6,
   "id": "478947b5-9d35-4670-a879-083d12b254de",
   "metadata": {
    "execution": {
     "iopub.execute_input": "2021-11-17T15:34:55.657954Z",
     "iopub.status.busy": "2021-11-17T15:34:55.657672Z",
     "iopub.status.idle": "2021-11-17T15:34:55.661283Z",
     "shell.execute_reply": "2021-11-17T15:34:55.660758Z",
     "shell.execute_reply.started": "2021-11-17T15:34:55.657926Z"
    },
    "tags": []
   },
   "outputs": [],
   "source": [
    "xlabel = \"V (V)\"\n",
    "ylabel = \"I (nA)\"\n",
    "all_Vs = np.zeros(7)\n",
    "all_u_Vs = np.zeros(7)"
   ]
  },
  {
   "cell_type": "markdown",
   "id": "322f7d96-95e2-4a90-9bcd-7652a3042ef8",
   "metadata": {
    "tags": []
   },
   "source": [
    "### Led 1"
   ]
  },
  {
   "cell_type": "markdown",
   "id": "be721c1a",
   "metadata": {
    "id": "be721c1a",
    "tags": []
   },
   "source": [
    "#### Dados"
   ]
  },
  {
   "cell_type": "code",
   "execution_count": 8,
   "id": "85b484e5-02fc-4344-897e-587815e27e55",
   "metadata": {
    "execution": {
     "iopub.execute_input": "2021-11-17T15:35:04.497189Z",
     "iopub.status.busy": "2021-11-17T15:35:04.496991Z",
     "iopub.status.idle": "2021-11-17T15:35:04.504789Z",
     "shell.execute_reply": "2021-11-17T15:35:04.504260Z",
     "shell.execute_reply.started": "2021-11-17T15:35:04.497167Z"
    },
    "tags": []
   },
   "outputs": [],
   "source": [
    "data= []\n",
    "erros_1 = []\n",
    "for i in range(1,8):\n",
    "    source = \"CSVs_T2/all/led\" + str(i) + \".csv\"\n",
    "    data.append(np.transpose(np.genfromtxt(source, delimiter = \",\", skip_header=1))[:2,])\n",
    "title  = \"Todos os LEDS\""
   ]
  },
  {
   "cell_type": "markdown",
   "id": "e853f33d-7bed-41d4-830c-f5a14f086b97",
   "metadata": {
    "tags": []
   },
   "source": [
    "#### Gráficos"
   ]
  },
  {
   "cell_type": "code",
   "execution_count": 10,
   "id": "ccf7bc5b-a2b2-49f6-bbe7-c760d60b2b65",
   "metadata": {
    "execution": {
     "iopub.execute_input": "2021-11-17T15:35:10.303209Z",
     "iopub.status.busy": "2021-11-17T15:35:10.303001Z",
     "iopub.status.idle": "2021-11-17T15:35:10.549656Z",
     "shell.execute_reply": "2021-11-17T15:35:10.549105Z",
     "shell.execute_reply.started": "2021-11-17T15:35:10.303180Z"
    },
    "tags": []
   },
   "outputs": [
    {
     "name": "stderr",
     "output_type": "stream",
     "text": [
      "No handles with labels found to put in legend.\n"
     ]
    },
    {
     "data": {
      "image/png": "[encoded data removed]",
      "text/plain": [
       "<Figure size 629.921x393.701 with 1 Axes>"
      ]
     },
     "metadata": {
      "needs_background": "light"
     },
     "output_type": "display_data"
    }
   ],
   "source": [
    "fig, ax = makeplot(data[0], '1' , colors[0], bars=False)\n",
    "plt.title(title)\n",
    "\n",
    "for i in range(1, len(data)):\n",
    "    add_points(data[i], str(i+1), colors[i], [fig,ax])"
   ]
  }
 ],
 "metadata": {
  "colab": {
   "name": "Análise T9 2novembro  (2).ipynb",
   "provenance": []
  },
  "kernelspec": {
   "display_name": "Python 3 (ipykernel)",
   "language": "python",
   "name": "python3"
  },
  "language_info": {
   "codemirror_mode": {
    "name": "ipython",
    "version": 3
   },
   "file_extension": ".py",
   "mimetype": "text/x-python",
   "name": "python",
   "nbconvert_exporter": "python",
   "pygments_lexer": "ipython3",
   "version": "3.8.10"
  }
 },
 "nbformat": 4,
 "nbformat_minor": 5
}
